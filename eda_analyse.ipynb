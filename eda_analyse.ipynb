{
 "cells": [
  {
   "cell_type": "code",
   "execution_count": null,
   "id": "initial_id",
   "metadata": {
    "ExecuteTime": {
     "end_time": "2024-06-12T21:06:40.660914Z",
     "start_time": "2024-06-12T21:06:40.456611Z"
    }
   },
   "outputs": [],
   "source": [
    "import os\n",
    "from pathlib import Path\n",
    "\n",
    "import numpy as np\n",
    "import pandas as pd\n",
    "import scipy\n",
    "from matplotlib import pyplot as plt\n",
    "\n",
    "eda_middle_data_path = 'eda-middle-data/'\n",
    "\n",
    "res = pd.DataFrame([], columns=['pcode', 'max_amplitude', 'scr_count_per_minute'])\n",
    "measurement = 'scr_count_per_minute'\n",
    "\n",
    "for p_index in range(80):\n",
    "    participant_key = 'P' + str(p_index + 1).zfill(2)\n",
    "    file_path = eda_middle_data_path + participant_key + '_eda_result.csv'\n",
    "\n",
    "    if not os.path.isfile(file_path):\n",
    "        print(file_path + ' do not exist.')\n",
    "        continue\n",
    "\n",
    "    df = pd.read_csv(file_path)\n",
    "    \n",
    "    if len(df) < 5:\n",
    "        print(file_path + ' has too less data, filtered out')\n",
    "        continue\n",
    "\n",
    "    Q1 = df[measurement].quantile(0.25)\n",
    "    Q3 = df[measurement].quantile(0.75)\n",
    "    IQR = Q3 - Q1\n",
    "    \n",
    "    outliers = ((df[measurement] < (Q1 - 1.5 * IQR)) | (df[measurement] > (Q3 + 1.5 * IQR)))\n",
    "    \n",
    "    df_filtered = df[~outliers]\n",
    "\n",
    "    res.loc[len(res)] = [participant_key, df_filtered['max_amplitude'].mean(), df_filtered['scr_count_per_minute'].mean()]\n",
    "\n",
    "res"
   ]
  },
  {
   "cell_type": "code",
   "execution_count": null,
   "id": "561fc7e7b3dfd38b",
   "metadata": {
    "ExecuteTime": {
     "end_time": "2024-06-12T21:06:40.970845Z",
     "start_time": "2024-06-12T21:06:40.661923Z"
    }
   },
   "outputs": [],
   "source": [
    "res.sort_values(by=measurement, ascending=False, inplace=True)\n",
    "plot = res.plot(x='pcode', y=measurement, kind='scatter', figsize=(15, 5))"
   ]
  },
  {
   "cell_type": "code",
   "execution_count": null,
   "id": "e2ac2e6e43184fd6",
   "metadata": {
    "ExecuteTime": {
     "end_time": "2024-06-12T21:06:40.981687Z",
     "start_time": "2024-06-12T21:06:40.971851Z"
    }
   },
   "outputs": [],
   "source": [
    "df_subj = pd.read_csv('dataset/SubjData/UserInfo.csv')\n",
    "df_subj"
   ]
  },
  {
   "cell_type": "code",
   "execution_count": null,
   "id": "1f9f36d1e9edc188",
   "metadata": {
    "ExecuteTime": {
     "end_time": "2024-06-12T21:06:41.444882Z",
     "start_time": "2024-06-12T21:06:40.982694Z"
    }
   },
   "outputs": [],
   "source": [
    "personality_traits = ['openness', 'conscientiousness', 'neuroticism', 'extraversion', 'agreeableness']\n",
    "df_test = pd.merge(res, df_subj, on='pcode')\n",
    "\n",
    "output_path = 'analyse_data/'\n",
    "Path(output_path).mkdir(parents=True, exist_ok=True)\n",
    "\n",
    "df_test.to_csv(f'{output_path}eda-results.csv', index=False)\n",
    "\n",
    "for trait in personality_traits:\n",
    "    df_test.plot(x=trait, y=measurement, kind='scatter')\n"
   ]
  },
  {
   "cell_type": "code",
   "execution_count": null,
   "id": "5bf5f8e4b13d89a1",
   "metadata": {
    "ExecuteTime": {
     "end_time": "2024-06-12T21:06:41.460902Z",
     "start_time": "2024-06-12T21:06:41.445888Z"
    }
   },
   "outputs": [],
   "source": [
    "import statsmodels.api as sm\n",
    "\n",
    "X = df_test[personality_traits]\n",
    "y = df_test[measurement]\n",
    "\n",
    "X = sm.add_constant(X)\n",
    "model = sm.OLS(y, X)\n",
    "results = model.fit()\n",
    "print(results.summary().as_latex())\n"
   ]
  },
  {
   "cell_type": "code",
   "execution_count": null,
   "id": "85d84ea5",
   "metadata": {},
   "outputs": [],
   "source": [
    "p2 = ['openness', 'conscientiousness']\n",
    "X2 = df_test[p2]\n",
    "\n",
    "X2 = sm.add_constant(X2)\n",
    "model2 = sm.OLS(y, X2)\n",
    "results2 = model2.fit()\n",
    "print(results2.summary())"
   ]
  },
  {
   "cell_type": "code",
   "execution_count": null,
   "id": "d517a3da760646b6",
   "metadata": {
    "ExecuteTime": {
     "end_time": "2024-06-12T21:06:41.554164Z",
     "start_time": "2024-06-12T21:06:41.461918Z"
    }
   },
   "outputs": [],
   "source": [
    "qq_plot = sm.qqplot(results.resid, line='q')\n",
    "scipy.stats.shapiro(results.resid)"
   ]
  },
  {
   "cell_type": "code",
   "execution_count": null,
   "id": "de46f311418b7b14",
   "metadata": {
    "ExecuteTime": {
     "end_time": "2024-06-12T21:06:41.563306Z",
     "start_time": "2024-06-12T21:06:41.555170Z"
    }
   },
   "outputs": [],
   "source": [
    "for trait in personality_traits:\n",
    "    print(trait, scipy.stats.pearsonr(df_test[trait], df_test[measurement]))"
   ]
  },
  {
   "cell_type": "code",
   "execution_count": null,
   "id": "8e0f6641d04e6af0",
   "metadata": {
    "ExecuteTime": {
     "end_time": "2024-06-12T21:06:41.663090Z",
     "start_time": "2024-06-12T21:06:41.564312Z"
    }
   },
   "outputs": [],
   "source": [
    "from statsmodels.stats.diagnostic import het_white\n",
    "\n",
    "homogeneity_test_results = het_white(results.resid, results.model.exog)\n",
    "\n",
    "labels = ['Lagrange multiplier statistic', 'p-value', 'f-value', 'f p-value']\n",
    "homogeneity_test_results = dict(zip(labels, homogeneity_test_results))\n",
    "\n",
    "print(homogeneity_test_results)\n",
    "\n",
    "plt.scatter(results.fittedvalues, results.resid)\n",
    "plt.xlabel('Fitted values')\n",
    "plt.ylabel('Residuals')\n",
    "plt.title('Residuals vs Fitted Values')\n",
    "plt.axhline(0, color='red', linestyle='--')\n",
    "plt.show()"
   ]
  }
 ],
 "metadata": {
  "kernelspec": {
   "display_name": "Python 3",
   "language": "python",
   "name": "python3"
  },
  "language_info": {
   "codemirror_mode": {
    "name": "ipython",
    "version": 2
   },
   "file_extension": ".py",
   "mimetype": "text/x-python",
   "name": "python",
   "nbconvert_exporter": "python",
   "pygments_lexer": "ipython2",
   "version": "2.7.6"
  }
 },
 "nbformat": 4,
 "nbformat_minor": 5
}
