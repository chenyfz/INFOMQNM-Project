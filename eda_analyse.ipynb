{
 "cells": [
  {
   "cell_type": "code",
   "execution_count": null,
   "id": "initial_id",
   "metadata": {
    "ExecuteTime": {
     "end_time": "2024-06-13T16:37:13.409857Z",
     "start_time": "2024-06-13T16:37:10.448756Z"
    }
   },
   "outputs": [],
   "source": [
    "import os\n",
    "from pathlib import Path\n",
    "\n",
    "import numpy as np\n",
    "import pandas as pd\n",
    "import scipy\n",
    "from matplotlib import pyplot as plt\n",
    "import statsmodels.api as sm\n",
    "from statsmodels.stats.diagnostic import het_white\n",
    "\n",
    "\n",
    "eda_middle_data_path = 'eda-middle-data/'\n",
    "\n",
    "res = pd.DataFrame([], columns=['pcode', 'max_amplitude', 'scr_count_per_minute'])\n",
    "measurement = 'scr_count_per_minute'\n",
    "\n",
    "# calculate mean SCRs frequency for each participant\n",
    "for p_index in range(80):\n",
    "    participant_key = 'P' + str(p_index + 1).zfill(2)\n",
    "    file_path = eda_middle_data_path + participant_key + '_eda_result.csv'\n",
    "\n",
    "    if not os.path.isfile(file_path):\n",
    "        print(file_path + ' do not exist.')\n",
    "        continue\n",
    "\n",
    "    df = pd.read_csv(file_path)\n",
    "    \n",
    "    # filter out participants with less than 5 rows of data \n",
    "    if len(df) < 5:\n",
    "        print(file_path + ' has too less data, filtered out')\n",
    "        continue\n",
    "\n",
    "    # IQR procedure to remove outlier\n",
    "    Q1 = df[measurement].quantile(0.25)\n",
    "    Q3 = df[measurement].quantile(0.75)\n",
    "    IQR = Q3 - Q1\n",
    "    \n",
    "    outliers = ((df[measurement] < (Q1 - 1.5 * IQR)) | (df[measurement] > (Q3 + 1.5 * IQR)))\n",
    "    \n",
    "    df_filtered = df[~outliers]\n",
    "\n",
    "    # In the end, we only use the scr_count_per_minute.\n",
    "    res.loc[len(res)] = [participant_key, df_filtered['max_amplitude'].mean(), df_filtered['scr_count_per_minute'].mean()]\n",
    "\n",
    "res"
   ]
  },
  {
   "cell_type": "code",
   "execution_count": null,
   "id": "561fc7e7b3dfd38b",
   "metadata": {
    "ExecuteTime": {
     "end_time": "2024-06-13T16:37:13.727922Z",
     "start_time": "2024-06-13T16:37:13.412887Z"
    }
   },
   "outputs": [],
   "source": [
    "# plot overview of participants\n",
    "res.sort_values(by=measurement, ascending=False, inplace=True)\n",
    "plot = res.plot(x='pcode', y=measurement, kind='scatter', figsize=(15, 5))"
   ]
  },
  {
   "cell_type": "code",
   "execution_count": null,
   "id": "e2ac2e6e43184fd6",
   "metadata": {
    "ExecuteTime": {
     "end_time": "2024-06-13T16:37:13.739209Z",
     "start_time": "2024-06-13T16:37:13.728929Z"
    }
   },
   "outputs": [],
   "source": [
    "# read participant information and print result for overview\n",
    "df_subj = pd.read_csv('dataset/SubjData/UserInfo.csv')\n",
    "df_subj"
   ]
  },
  {
   "cell_type": "code",
   "execution_count": null,
   "id": "1f9f36d1e9edc188",
   "metadata": {
    "ExecuteTime": {
     "end_time": "2024-06-13T16:37:14.240899Z",
     "start_time": "2024-06-13T16:37:13.741216Z"
    }
   },
   "outputs": [],
   "source": [
    "personality_traits = ['openness', 'conscientiousness', 'neuroticism', 'extraversion', 'agreeableness']\n",
    "df_test = pd.merge(res, df_subj, on='pcode')\n",
    "\n",
    "output_path = 'analyse_data/'\n",
    "Path(output_path).mkdir(parents=True, exist_ok=True)\n",
    "\n",
    "df_test.to_csv(f'{output_path}eda-results.csv', index=False)\n",
    "\n",
    "for trait in personality_traits:\n",
    "    df_test.plot(x=trait, y=measurement, kind='scatter')\n"
   ]
  },
  {
   "cell_type": "code",
   "execution_count": null,
   "id": "5bf5f8e4b13d89a1",
   "metadata": {
    "ExecuteTime": {
     "end_time": "2024-06-13T16:37:14.257459Z",
     "start_time": "2024-06-13T16:37:14.241905Z"
    }
   },
   "outputs": [],
   "source": [
    "# join user information dataframe and HRV result dataframe\n",
    "X = df_test[personality_traits]\n",
    "y = df_test[measurement]\n",
    "\n",
    "# multiple regression model for all five personality traits to EDA\n",
    "X = sm.add_constant(X)\n",
    "model = sm.OLS(y, X)\n",
    "results = model.fit()\n",
    "print(results.summary())"
   ]
  },
  {
   "cell_type": "code",
   "execution_count": null,
   "id": "d517a3da760646b6",
   "metadata": {
    "ExecuteTime": {
     "end_time": "2024-06-13T16:37:14.353236Z",
     "start_time": "2024-06-13T16:37:14.258466Z"
    }
   },
   "outputs": [],
   "source": [
    "# normality test\n",
    "qq_plot = sm.qqplot(results.resid, line='q')\n",
    "print(scipy.stats.shapiro(results.resid))"
   ]
  },
  {
   "cell_type": "code",
   "execution_count": null,
   "id": "de46f311418b7b14",
   "metadata": {
    "ExecuteTime": {
     "end_time": "2024-06-13T16:37:14.363723Z",
     "start_time": "2024-06-13T16:37:14.354245Z"
    }
   },
   "outputs": [],
   "source": [
    "# Pearson correlation of each personality trait to EDA. We don't use them in the end.\n",
    "for trait in personality_traits:\n",
    "    print(trait, scipy.stats.pearsonr(df_test[trait], df_test[measurement]))"
   ]
  },
  {
   "cell_type": "code",
   "execution_count": null,
   "id": "8e0f6641d04e6af0",
   "metadata": {
    "ExecuteTime": {
     "end_time": "2024-06-13T16:37:14.373622Z",
     "start_time": "2024-06-13T16:37:14.364728Z"
    }
   },
   "outputs": [],
   "source": [
    "# assumption test for homogeneity\n",
    "homogeneity_test_results = het_white(results.resid, results.model.exog)\n",
    "\n",
    "labels = ['Lagrange multiplier statistic', 'p-value', 'f-value', 'f p-value']\n",
    "homogeneity_test_results = dict(zip(labels, homogeneity_test_results))\n",
    "\n",
    "print(homogeneity_test_results)"
   ]
  },
  {
   "cell_type": "code",
   "execution_count": null,
   "id": "eceb35213e3754cb",
   "metadata": {
    "ExecuteTime": {
     "end_time": "2024-06-13T16:37:14.392698Z",
     "start_time": "2024-06-13T16:37:14.374629Z"
    }
   },
   "outputs": [],
   "source": [
    "p2 = ['openness', 'conscientiousness']\n",
    "X2 = df_test[p2]\n",
    "\n",
    "X2 = sm.add_constant(X2)\n",
    "model2 = sm.OLS(y, X2)\n",
    "results2 = model2.fit()\n",
    "print(results2.summary())"
   ]
  },
  {
   "cell_type": "code",
   "execution_count": null,
   "id": "7482c6b401848602",
   "metadata": {
    "ExecuteTime": {
     "end_time": "2024-06-13T16:37:14.402094Z",
     "start_time": "2024-06-13T16:37:14.393708Z"
    }
   },
   "outputs": [],
   "source": [
    "print(scipy.stats.shapiro(results2.resid))\n",
    "\n",
    "homogeneity_test_results = het_white(results2.resid, results2.model.exog)\n",
    "\n",
    "labels = ['Lagrange multiplier statistic', 'p-value', 'f-value', 'f p-value']\n",
    "homogeneity_test_results = dict(zip(labels, homogeneity_test_results))\n",
    "\n",
    "print(homogeneity_test_results)"
   ]
  },
  {
   "cell_type": "code",
   "execution_count": null,
   "id": "db596db9",
   "metadata": {},
   "outputs": [],
   "source": [
    "import matplotlib.pyplot as plt\n",
    "\n",
    "coef_openness = results2.params['openness']\n",
    "std_err_openness = results2.bse['openness']\n",
    "intercept = results2.params['const']\n",
    "\n",
    "# calculate 95% confidence interval\n",
    "lower_ci = coef_openness - 1.96 * std_err_openness\n",
    "upper_ci = coef_openness + 1.96 * std_err_openness\n",
    "\n",
    "plt.figure(figsize=(8, 6))\n",
    "plt.scatter(df_test['openness'], y, label='Data points')\n",
    "plt.plot(df_test['openness'], intercept + coef_openness * df_test['openness'], color='red', label='Best Fit Line')\n",
    "plt.fill_between(df_test['openness'], intercept + lower_ci * df_test['openness'], intercept + upper_ci * df_test['openness'], color='pink', alpha=0.4, label='95% CI')\n",
    "plt.xlabel('Openness')\n",
    "plt.ylabel('scr_count_per_minute')\n",
    "plt.legend()\n",
    "\n",
    "plt.tight_layout()\n",
    "plt.show()\n"
   ]
  }
 ],
 "metadata": {
  "kernelspec": {
   "display_name": "Python 3",
   "language": "python",
   "name": "python3"
  },
  "language_info": {
   "codemirror_mode": {
    "name": "ipython",
    "version": 2
   },
   "file_extension": ".py",
   "mimetype": "text/x-python",
   "name": "python",
   "nbconvert_exporter": "python",
   "pygments_lexer": "ipython2",
   "version": "2.7.6"
  }
 },
 "nbformat": 4,
 "nbformat_minor": 5
}
