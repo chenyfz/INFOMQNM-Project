{
 "cells": [
  {
   "metadata": {
    "ExecuteTime": {
     "end_time": "2024-04-24T23:46:56.182695Z",
     "start_time": "2024-04-24T23:46:56.084846Z"
    }
   },
   "cell_type": "code",
   "source": [
    "import pandas as pd\n",
    "import numpy as np\n",
    "import matplotlib.pyplot as plt\n",
    "\n",
    "plt.style.use('ggplot')\n",
    "\n",
    "df = pd.read_csv('./dataset/P02/AmbientLight.csv')"
   ],
   "id": "8ac740be14e042ca",
   "outputs": [],
   "execution_count": 47
  },
  {
   "metadata": {
    "ExecuteTime": {
     "end_time": "2024-04-24T23:46:56.224219Z",
     "start_time": "2024-04-24T23:46:56.183722Z"
    }
   },
   "cell_type": "code",
   "source": "df.insert(1, 'date', pd.to_datetime(df.timestamp, unit='ms'))",
   "id": "c4fda9c59e152982",
   "outputs": [],
   "execution_count": 48
  },
  {
   "metadata": {
    "ExecuteTime": {
     "end_time": "2024-04-24T23:46:56.237012Z",
     "start_time": "2024-04-24T23:46:56.226229Z"
    }
   },
   "cell_type": "code",
   "source": "df",
   "id": "681ccb67ed95f71b",
   "outputs": [
    {
     "data": {
      "text/plain": [
       "            timestamp                    date  brightness\n",
       "0       1557278011155 2019-05-08 01:13:31.155           5\n",
       "1       1557278011647 2019-05-08 01:13:31.647           5\n",
       "2       1557278012156 2019-05-08 01:13:32.156          92\n",
       "3       1557278012641 2019-05-08 01:13:32.641         161\n",
       "4       1557278013168 2019-05-08 01:13:33.168         178\n",
       "...               ...                     ...         ...\n",
       "453960  1557838159176 2019-05-14 12:49:19.176           0\n",
       "453961  1557838159691 2019-05-14 12:49:19.691           0\n",
       "453962  1557838160180 2019-05-14 12:49:20.180           0\n",
       "453963  1557838160719 2019-05-14 12:49:20.719           0\n",
       "453964  1557838161174 2019-05-14 12:49:21.174           0\n",
       "\n",
       "[453965 rows x 3 columns]"
      ],
      "text/html": [
       "<div>\n",
       "<style scoped>\n",
       "    .dataframe tbody tr th:only-of-type {\n",
       "        vertical-align: middle;\n",
       "    }\n",
       "\n",
       "    .dataframe tbody tr th {\n",
       "        vertical-align: top;\n",
       "    }\n",
       "\n",
       "    .dataframe thead th {\n",
       "        text-align: right;\n",
       "    }\n",
       "</style>\n",
       "<table border=\"1\" class=\"dataframe\">\n",
       "  <thead>\n",
       "    <tr style=\"text-align: right;\">\n",
       "      <th></th>\n",
       "      <th>timestamp</th>\n",
       "      <th>date</th>\n",
       "      <th>brightness</th>\n",
       "    </tr>\n",
       "  </thead>\n",
       "  <tbody>\n",
       "    <tr>\n",
       "      <th>0</th>\n",
       "      <td>1557278011155</td>\n",
       "      <td>2019-05-08 01:13:31.155</td>\n",
       "      <td>5</td>\n",
       "    </tr>\n",
       "    <tr>\n",
       "      <th>1</th>\n",
       "      <td>1557278011647</td>\n",
       "      <td>2019-05-08 01:13:31.647</td>\n",
       "      <td>5</td>\n",
       "    </tr>\n",
       "    <tr>\n",
       "      <th>2</th>\n",
       "      <td>1557278012156</td>\n",
       "      <td>2019-05-08 01:13:32.156</td>\n",
       "      <td>92</td>\n",
       "    </tr>\n",
       "    <tr>\n",
       "      <th>3</th>\n",
       "      <td>1557278012641</td>\n",
       "      <td>2019-05-08 01:13:32.641</td>\n",
       "      <td>161</td>\n",
       "    </tr>\n",
       "    <tr>\n",
       "      <th>4</th>\n",
       "      <td>1557278013168</td>\n",
       "      <td>2019-05-08 01:13:33.168</td>\n",
       "      <td>178</td>\n",
       "    </tr>\n",
       "    <tr>\n",
       "      <th>...</th>\n",
       "      <td>...</td>\n",
       "      <td>...</td>\n",
       "      <td>...</td>\n",
       "    </tr>\n",
       "    <tr>\n",
       "      <th>453960</th>\n",
       "      <td>1557838159176</td>\n",
       "      <td>2019-05-14 12:49:19.176</td>\n",
       "      <td>0</td>\n",
       "    </tr>\n",
       "    <tr>\n",
       "      <th>453961</th>\n",
       "      <td>1557838159691</td>\n",
       "      <td>2019-05-14 12:49:19.691</td>\n",
       "      <td>0</td>\n",
       "    </tr>\n",
       "    <tr>\n",
       "      <th>453962</th>\n",
       "      <td>1557838160180</td>\n",
       "      <td>2019-05-14 12:49:20.180</td>\n",
       "      <td>0</td>\n",
       "    </tr>\n",
       "    <tr>\n",
       "      <th>453963</th>\n",
       "      <td>1557838160719</td>\n",
       "      <td>2019-05-14 12:49:20.719</td>\n",
       "      <td>0</td>\n",
       "    </tr>\n",
       "    <tr>\n",
       "      <th>453964</th>\n",
       "      <td>1557838161174</td>\n",
       "      <td>2019-05-14 12:49:21.174</td>\n",
       "      <td>0</td>\n",
       "    </tr>\n",
       "  </tbody>\n",
       "</table>\n",
       "<p>453965 rows × 3 columns</p>\n",
       "</div>"
      ]
     },
     "execution_count": 49,
     "metadata": {},
     "output_type": "execute_result"
    }
   ],
   "execution_count": 49
  },
  {
   "metadata": {
    "ExecuteTime": {
     "end_time": "2024-04-24T23:47:13.028366Z",
     "start_time": "2024-04-24T23:47:12.776476Z"
    }
   },
   "cell_type": "code",
   "source": [
    "# df = df.loc[(df.date > '2019-05-10') & (df.date <= '2019-05-11')]\n",
    "plt.figure(figsize=(25, 4))\n",
    "plt.plot(df.date, df.brightness)"
   ],
   "id": "fb18c8b23b5a483a",
   "outputs": [
    {
     "data": {
      "text/plain": [
       "[<matplotlib.lines.Line2D at 0x1d088bc57d0>]"
      ]
     },
     "execution_count": 51,
     "metadata": {},
     "output_type": "execute_result"
    },
    {
     "data": {
      "text/plain": [
       "<Figure size 2500x400 with 1 Axes>"
      ],
      "image/png": "[encoded data removed]"
     },
     "metadata": {},
     "output_type": "display_data"
    }
   ],
   "execution_count": 51
  }
 ],
 "metadata": {
  "kernelspec": {
   "display_name": "Python 3",
   "language": "python",
   "name": "python3"
  },
  "language_info": {
   "codemirror_mode": {
    "name": "ipython",
    "version": 2
   },
   "file_extension": ".py",
   "mimetype": "text/x-python",
   "name": "python",
   "nbconvert_exporter": "python",
   "pygments_lexer": "ipython2",
   "version": "2.7.6"
  }
 },
 "nbformat": 4,
 "nbformat_minor": 5
}
