{
 "cells": [
  {
   "cell_type": "code",
   "id": "initial_id",
   "metadata": {
    "collapsed": true,
    "ExecuteTime": {
     "end_time": "2024-06-07T16:29:01.086666Z",
     "start_time": "2024-06-07T16:29:00.052404Z"
    }
   },
   "source": [
    "import numpy as np\n",
    "import pandas as pd\n",
    "import scipy\n",
    "from matplotlib import pyplot as plt\n",
    "\n",
    "df_hrv = pd.read_csv('analyse_data/hrv-results.csv')\n",
    "df_eda = pd.read_csv('analyse_data/eda-results.csv')\n",
    "\n",
    "df = pd.merge(df_hrv, df_eda, on='pcode')"
   ],
   "outputs": [],
   "execution_count": 2
  },
  {
   "metadata": {
    "ExecuteTime": {
     "end_time": "2024-06-07T16:31:23.643520Z",
     "start_time": "2024-06-07T16:31:23.473245Z"
    }
   },
   "cell_type": "code",
   "source": "plt.scatter(df['CVSD_mean'], df['scr_count_per_minute'])",
   "id": "60cffc2ebfdfaa82",
   "outputs": [
    {
     "data": {
      "text/plain": [
       "<matplotlib.collections.PathCollection at 0x28ad9045d00>"
      ]
     },
     "execution_count": 6,
     "metadata": {},
     "output_type": "execute_result"
    },
    {
     "data": {
      "text/plain": [
       "<Figure size 640x480 with 1 Axes>"
      ],
      "image/png": "[encoded data removed]"
     },
     "metadata": {},
     "output_type": "display_data"
    }
   ],
   "execution_count": 6
  },
  {
   "metadata": {
    "ExecuteTime": {
     "end_time": "2024-06-07T16:32:14.239853Z",
     "start_time": "2024-06-07T16:32:13.559865Z"
    }
   },
   "cell_type": "code",
   "source": "scipy.stats.pearsonr(df['CVSD_mean'], df['scr_count_per_minute'])",
   "id": "29e2bf43e14c56fb",
   "outputs": [
    {
     "data": {
      "text/plain": [
       "PearsonRResult(statistic=-0.09349956061485389, pvalue=0.4517053041124153)"
      ]
     },
     "execution_count": 7,
     "metadata": {},
     "output_type": "execute_result"
    }
   ],
   "execution_count": 7
  },
  {
   "metadata": {
    "ExecuteTime": {
     "end_time": "2024-06-07T16:34:05.731472Z",
     "start_time": "2024-06-07T16:34:05.723622Z"
    }
   },
   "cell_type": "code",
   "source": [
    "df_corr = pd.DataFrame(df, columns=['CVSD_mean', 'scr_count_per_minute'])\n",
    "\n",
    "df_corr.corr(method='pearson')"
   ],
   "id": "43bdce26b1ae1e14",
   "outputs": [
    {
     "data": {
      "text/plain": [
       "                      CVSD_mean  scr_count_per_minute\n",
       "CVSD_mean                1.0000               -0.0935\n",
       "scr_count_per_minute    -0.0935                1.0000"
      ],
      "text/html": [
       "<div>\n",
       "<style scoped>\n",
       "    .dataframe tbody tr th:only-of-type {\n",
       "        vertical-align: middle;\n",
       "    }\n",
       "\n",
       "    .dataframe tbody tr th {\n",
       "        vertical-align: top;\n",
       "    }\n",
       "\n",
       "    .dataframe thead th {\n",
       "        text-align: right;\n",
       "    }\n",
       "</style>\n",
       "<table border=\"1\" class=\"dataframe\">\n",
       "  <thead>\n",
       "    <tr style=\"text-align: right;\">\n",
       "      <th></th>\n",
       "      <th>CVSD_mean</th>\n",
       "      <th>scr_count_per_minute</th>\n",
       "    </tr>\n",
       "  </thead>\n",
       "  <tbody>\n",
       "    <tr>\n",
       "      <th>CVSD_mean</th>\n",
       "      <td>1.0000</td>\n",
       "      <td>-0.0935</td>\n",
       "    </tr>\n",
       "    <tr>\n",
       "      <th>scr_count_per_minute</th>\n",
       "      <td>-0.0935</td>\n",
       "      <td>1.0000</td>\n",
       "    </tr>\n",
       "  </tbody>\n",
       "</table>\n",
       "</div>"
      ]
     },
     "execution_count": 8,
     "metadata": {},
     "output_type": "execute_result"
    }
   ],
   "execution_count": 8
  }
 ],
 "metadata": {
  "kernelspec": {
   "display_name": "Python 3",
   "language": "python",
   "name": "python3"
  },
  "language_info": {
   "codemirror_mode": {
    "name": "ipython",
    "version": 2
   },
   "file_extension": ".py",
   "mimetype": "text/x-python",
   "name": "python",
   "nbconvert_exporter": "python",
   "pygments_lexer": "ipython2",
   "version": "2.7.6"
  }
 },
 "nbformat": 4,
 "nbformat_minor": 5
}
