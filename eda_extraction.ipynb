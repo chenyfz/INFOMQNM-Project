{
 "cells": [
  {
   "cell_type": "code",
   "id": "initial_id",
   "metadata": {
    "collapsed": true,
    "ExecuteTime": {
     "end_time": "2024-05-28T00:44:58.760364Z",
     "start_time": "2024-05-28T00:44:58.620739Z"
    }
   },
   "source": [
    "import pandas as pd\n",
    "from neurokit2 import eda_process\n",
    "\n",
    "time_middle_file_path = 'middle-files/'\n",
    "\n",
    "# replace with for loop\n",
    "p_index = 2\n",
    "\n",
    "participant_key = 'P' + str(p_index + 1).zfill(2)\n",
    "\n",
    "df_time = pd.read_csv(f'{time_middle_file_path}{participant_key}_foreground_background_differences.csv')\n",
    "df_eda = pd.read_csv(f'dataset/{participant_key}/eda.csv')"
   ],
   "outputs": [],
   "execution_count": 72
  },
  {
   "metadata": {
    "ExecuteTime": {
     "end_time": "2024-05-28T00:44:58.769520Z",
     "start_time": "2024-05-28T00:44:58.761380Z"
    }
   },
   "cell_type": "code",
   "source": "df_time",
   "id": "a393ee6d40f7e4f6",
   "outputs": [
    {
     "data": {
      "text/plain": [
       "          name          packageName  foreground_time  background_time  \\\n",
       "0     Facebook  com.facebook.katana    1557276513456    1557276514293   \n",
       "1     Facebook  com.facebook.katana    1557276514348    1557276515594   \n",
       "2     Facebook  com.facebook.katana    1557276515683    1557276854430   \n",
       "3     Facebook  com.facebook.katana    1557282259071    1557282259878   \n",
       "4     Facebook  com.facebook.katana    1557282259930    1557282261537   \n",
       "...        ...                  ...              ...              ...   \n",
       "1178      카카오톡       com.kakao.talk    1557831185638    1557831201671   \n",
       "1179      카카오톡       com.kakao.talk    1557831201679    1557831203678   \n",
       "1180      카카오톡       com.kakao.talk    1557831203691    1557831209224   \n",
       "1181      카카오톡       com.kakao.talk    1557831209232    1557831210659   \n",
       "1182      카카오톡       com.kakao.talk    1557831210670    1557831214181   \n",
       "\n",
       "      time_difference                                  screen_event_pair  \n",
       "0                 837  {'UNLOCK_timestamp': 1557276492822, 'OFF_times...  \n",
       "1                1246  {'UNLOCK_timestamp': 1557276492822, 'OFF_times...  \n",
       "2              338747  {'UNLOCK_timestamp': 1557276492822, 'OFF_times...  \n",
       "3                 807  {'UNLOCK_timestamp': 1557282230047, 'OFF_times...  \n",
       "4                1607  {'UNLOCK_timestamp': 1557282230047, 'OFF_times...  \n",
       "...               ...                                                ...  \n",
       "1178            16033  {'UNLOCK_timestamp': 1557825620001, 'OFF_times...  \n",
       "1179             1999  {'UNLOCK_timestamp': 1557825620001, 'OFF_times...  \n",
       "1180             5533  {'UNLOCK_timestamp': 1557825620001, 'OFF_times...  \n",
       "1181             1427  {'UNLOCK_timestamp': 1557825620001, 'OFF_times...  \n",
       "1182             3511  {'UNLOCK_timestamp': 1557825620001, 'OFF_times...  \n",
       "\n",
       "[1183 rows x 6 columns]"
      ],
      "text/html": [
       "<div>\n",
       "<style scoped>\n",
       "    .dataframe tbody tr th:only-of-type {\n",
       "        vertical-align: middle;\n",
       "    }\n",
       "\n",
       "    .dataframe tbody tr th {\n",
       "        vertical-align: top;\n",
       "    }\n",
       "\n",
       "    .dataframe thead th {\n",
       "        text-align: right;\n",
       "    }\n",
       "</style>\n",
       "<table border=\"1\" class=\"dataframe\">\n",
       "  <thead>\n",
       "    <tr style=\"text-align: right;\">\n",
       "      <th></th>\n",
       "      <th>name</th>\n",
       "      <th>packageName</th>\n",
       "      <th>foreground_time</th>\n",
       "      <th>background_time</th>\n",
       "      <th>time_difference</th>\n",
       "      <th>screen_event_pair</th>\n",
       "    </tr>\n",
       "  </thead>\n",
       "  <tbody>\n",
       "    <tr>\n",
       "      <th>0</th>\n",
       "      <td>Facebook</td>\n",
       "      <td>com.facebook.katana</td>\n",
       "      <td>1557276513456</td>\n",
       "      <td>1557276514293</td>\n",
       "      <td>837</td>\n",
       "      <td>{'UNLOCK_timestamp': 1557276492822, 'OFF_times...</td>\n",
       "    </tr>\n",
       "    <tr>\n",
       "      <th>1</th>\n",
       "      <td>Facebook</td>\n",
       "      <td>com.facebook.katana</td>\n",
       "      <td>1557276514348</td>\n",
       "      <td>1557276515594</td>\n",
       "      <td>1246</td>\n",
       "      <td>{'UNLOCK_timestamp': 1557276492822, 'OFF_times...</td>\n",
       "    </tr>\n",
       "    <tr>\n",
       "      <th>2</th>\n",
       "      <td>Facebook</td>\n",
       "      <td>com.facebook.katana</td>\n",
       "      <td>1557276515683</td>\n",
       "      <td>1557276854430</td>\n",
       "      <td>338747</td>\n",
       "      <td>{'UNLOCK_timestamp': 1557276492822, 'OFF_times...</td>\n",
       "    </tr>\n",
       "    <tr>\n",
       "      <th>3</th>\n",
       "      <td>Facebook</td>\n",
       "      <td>com.facebook.katana</td>\n",
       "      <td>1557282259071</td>\n",
       "      <td>1557282259878</td>\n",
       "      <td>807</td>\n",
       "      <td>{'UNLOCK_timestamp': 1557282230047, 'OFF_times...</td>\n",
       "    </tr>\n",
       "    <tr>\n",
       "      <th>4</th>\n",
       "      <td>Facebook</td>\n",
       "      <td>com.facebook.katana</td>\n",
       "      <td>1557282259930</td>\n",
       "      <td>1557282261537</td>\n",
       "      <td>1607</td>\n",
       "      <td>{'UNLOCK_timestamp': 1557282230047, 'OFF_times...</td>\n",
       "    </tr>\n",
       "    <tr>\n",
       "      <th>...</th>\n",
       "      <td>...</td>\n",
       "      <td>...</td>\n",
       "      <td>...</td>\n",
       "      <td>...</td>\n",
       "      <td>...</td>\n",
       "      <td>...</td>\n",
       "    </tr>\n",
       "    <tr>\n",
       "      <th>1178</th>\n",
       "      <td>카카오톡</td>\n",
       "      <td>com.kakao.talk</td>\n",
       "      <td>1557831185638</td>\n",
       "      <td>1557831201671</td>\n",
       "      <td>16033</td>\n",
       "      <td>{'UNLOCK_timestamp': 1557825620001, 'OFF_times...</td>\n",
       "    </tr>\n",
       "    <tr>\n",
       "      <th>1179</th>\n",
       "      <td>카카오톡</td>\n",
       "      <td>com.kakao.talk</td>\n",
       "      <td>1557831201679</td>\n",
       "      <td>1557831203678</td>\n",
       "      <td>1999</td>\n",
       "      <td>{'UNLOCK_timestamp': 1557825620001, 'OFF_times...</td>\n",
       "    </tr>\n",
       "    <tr>\n",
       "      <th>1180</th>\n",
       "      <td>카카오톡</td>\n",
       "      <td>com.kakao.talk</td>\n",
       "      <td>1557831203691</td>\n",
       "      <td>1557831209224</td>\n",
       "      <td>5533</td>\n",
       "      <td>{'UNLOCK_timestamp': 1557825620001, 'OFF_times...</td>\n",
       "    </tr>\n",
       "    <tr>\n",
       "      <th>1181</th>\n",
       "      <td>카카오톡</td>\n",
       "      <td>com.kakao.talk</td>\n",
       "      <td>1557831209232</td>\n",
       "      <td>1557831210659</td>\n",
       "      <td>1427</td>\n",
       "      <td>{'UNLOCK_timestamp': 1557825620001, 'OFF_times...</td>\n",
       "    </tr>\n",
       "    <tr>\n",
       "      <th>1182</th>\n",
       "      <td>카카오톡</td>\n",
       "      <td>com.kakao.talk</td>\n",
       "      <td>1557831210670</td>\n",
       "      <td>1557831214181</td>\n",
       "      <td>3511</td>\n",
       "      <td>{'UNLOCK_timestamp': 1557825620001, 'OFF_times...</td>\n",
       "    </tr>\n",
       "  </tbody>\n",
       "</table>\n",
       "<p>1183 rows × 6 columns</p>\n",
       "</div>"
      ]
     },
     "execution_count": 73,
     "metadata": {},
     "output_type": "execute_result"
    }
   ],
   "execution_count": 73
  },
  {
   "metadata": {
    "ExecuteTime": {
     "end_time": "2024-05-28T00:44:58.780263Z",
     "start_time": "2024-05-28T00:44:58.770527Z"
    }
   },
   "cell_type": "code",
   "source": [
    "# transform to microsiemens \n",
    "\n",
    "df_eda['conductance'] = 1 / df_eda['resistance']"
   ],
   "id": "5d019b540ccd3b85",
   "outputs": [],
   "execution_count": 74
  },
  {
   "metadata": {
    "ExecuteTime": {
     "end_time": "2024-05-28T00:46:40.540101Z",
     "start_time": "2024-05-28T00:46:36.358594Z"
    }
   },
   "cell_type": "code",
   "source": "res, info = eda_process(df_eda['conductance'], 5, kwargs_phasic='SparsEDA')",
   "id": "5383d5c6f888207b",
   "outputs": [
    {
     "name": "stderr",
     "output_type": "stream",
     "text": [
      "C:\\Users\\xchen\\.virtualenvs\\INFOMQNM-Project-AQz3gs5P\\Lib\\site-packages\\neurokit2\\eda\\eda_clean.py:105: NeuroKitWarning: EDA signal is sampled at very low frequency. Skipping filtering.\n",
      "  warn(\n"
     ]
    }
   ],
   "execution_count": 79
  },
  {
   "metadata": {
    "ExecuteTime": {
     "end_time": "2024-05-28T00:55:54.552179Z",
     "start_time": "2024-05-28T00:55:54.548337Z"
    }
   },
   "cell_type": "code",
   "source": "info['SCR_Amplitude'].max()",
   "id": "9b78159588678181",
   "outputs": [
    {
     "data": {
      "text/plain": [
       "0.0027561403866976403"
      ]
     },
     "execution_count": 84,
     "metadata": {},
     "output_type": "execute_result"
    }
   ],
   "execution_count": 84
  }
 ],
 "metadata": {
  "kernelspec": {
   "display_name": "Python 3",
   "language": "python",
   "name": "python3"
  },
  "language_info": {
   "codemirror_mode": {
    "name": "ipython",
    "version": 2
   },
   "file_extension": ".py",
   "mimetype": "text/x-python",
   "name": "python",
   "nbconvert_exporter": "python",
   "pygments_lexer": "ipython2",
   "version": "2.7.6"
  }
 },
 "nbformat": 4,
 "nbformat_minor": 5
}
