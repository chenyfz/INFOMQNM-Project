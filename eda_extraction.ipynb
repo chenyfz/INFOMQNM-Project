{
 "cells": [
  {
   "metadata": {
    "ExecuteTime": {
     "end_time": "2024-05-28T12:02:24.724914Z",
     "start_time": "2024-05-28T12:02:24.717606Z"
    }
   },
   "cell_type": "code",
   "source": [
    "import os\n",
    "from multiprocessing import Pool\n",
    "\n",
    "import numpy as np\n",
    "import pandas as pd\n",
    "import matplotlib.pyplot as plt\n",
    "from scipy import stats\n",
    "from neurokit2 import eda_process\n",
    "\n",
    "plt.style.use('ggplot')\n",
    "\n",
    "time_middle_file_path = 'middle-files/'\n",
    "eda_output_path = 'eda-middle-data/'\n",
    "\n",
    "p_index = 8\n",
    "\n",
    "def get_key_timestamps(target, duration_ms, df, df_key='timestamp'):\n",
    "    target_after = target + duration_ms\n",
    "\n",
    "    idx_target = df[df_key].searchsorted(target, 'right') - 1\n",
    "    idx_after = df[df_key].searchsorted(target_after, 'left')\n",
    "\n",
    "    timestamp_target = df[df_key].iloc[idx_target] if idx_target >= 0 else 0\n",
    "    timestamp_after = df[df_key].iloc[idx_after] if idx_after < len(df) else 0\n",
    "\n",
    "    return timestamp_target, timestamp_after\n",
    "\n"
   ],
   "id": "725ed5d9dd17d676",
   "outputs": [],
   "execution_count": 100
  },
  {
   "metadata": {
    "ExecuteTime": {
     "end_time": "2024-05-28T12:10:20.299269Z",
     "start_time": "2024-05-28T12:10:19.707987Z"
    }
   },
   "cell_type": "code",
   "source": [
    "\n",
    "participant_key = 'P' + str(p_index + 1).zfill(2)\n",
    "\n",
    "df_time = pd.read_csv(f'{time_middle_file_path}{participant_key}_foreground_background_differences.csv')\n",
    "df_eda = pd.read_csv(f'dataset/{participant_key}/EDA.csv')\n",
    "\n",
    "# print(f'dataset/{participant_key}/EDA.csv')\n",
    "\n",
    "print(df_eda[df_eda['resistance'] == 0])\n",
    "\n",
    "# transform from ohm to microsiemens (Note: the original paper said it is kilo-ohm but seems wrong...)\n",
    "df_eda['conductance'] = 1 / df_eda['resistance'] * 1000\n",
    "\n",
    "# print(pd.Series(df_eda['resistance'].tolist()).describe())\n",
    "\n",
    "\n",
    "# potential: transform to z-score?\n",
    "df_eda['conductance'] = stats.zscore(df_eda['conductance'].tolist())\n",
    "\n"
   ],
   "id": "ab9d4c08fa1dbae0",
   "outputs": [
    {
     "name": "stdout",
     "output_type": "stream",
     "text": [
      "             timestamp  resistance\n",
      "170009   1557307469035           0\n",
      "170010   1557307469252           0\n",
      "170012   1557307469633           0\n",
      "170030   1557307473219           0\n",
      "170065   1557307480192           0\n",
      "170126   1557307492345           0\n",
      "448510   1557473413038           0\n",
      "448511   1557473413249           0\n",
      "448512   1557473413454           0\n",
      "448513   1557473413671           0\n",
      "448514   1557473413849           0\n",
      "448515   1557473414036           0\n",
      "448516   1557473414235           0\n",
      "448517   1557473414450           0\n",
      "448518   1557473414638           0\n",
      "448519   1557473414842           0\n",
      "448520   1557473415030           0\n",
      "456539   1557475012576           0\n",
      "456541   1557475012963           0\n",
      "745716   1557657304122           0\n",
      "745717   1557657304316           0\n",
      "745718   1557657304517           0\n",
      "847549   1557678991435           0\n",
      "847550   1557678991635           0\n",
      "847552   1557678992032           0\n",
      "847553   1557678992231           0\n",
      "847554   1557678992429           0\n",
      "853558   1557704753320           0\n",
      "1123207  1557827780201           0\n",
      "1123208  1557827780397           0\n",
      "1123210  1557827780793           0\n",
      "1123211  1557827780985           0\n",
      "1123212  1557827781205           0\n",
      "1123221  1557827782974           0\n",
      "1123222  1557827783179           0\n",
      "1123223  1557827783409           0\n",
      "1123224  1557827783615           0\n",
      "1123225  1557827783793           0\n",
      "1123226  1557827783986           0\n",
      "1123227  1557827784179           0\n",
      "1123228  1557827784371           0\n",
      "1123229  1557827784592           0\n",
      "1123230  1557827784775           0\n",
      "1123231  1557827784970           0\n",
      "1123232  1557827785169           0\n",
      "1123233  1557827785379           0\n",
      "1123234  1557827785569           0\n",
      "1123235  1557827785776           0\n",
      "1123236  1557827785978           0\n",
      "1123237  1557827786162           0\n",
      "1123238  1557827786373           0\n",
      "1123241  1557827786972           0\n",
      "1123242  1557827787176           0\n"
     ]
    },
    {
     "name": "stderr",
     "output_type": "stream",
     "text": [
      "C:\\Users\\xchen\\.virtualenvs\\INFOMQNM-Project-AQz3gs5P\\Lib\\site-packages\\numpy\\core\\_methods.py:173: RuntimeWarning: invalid value encountered in subtract\n",
      "  x = asanyarray(arr - arrmean)\n",
      "C:\\Users\\xchen\\.virtualenvs\\INFOMQNM-Project-AQz3gs5P\\Lib\\site-packages\\scipy\\stats\\_stats_py.py:3100: RuntimeWarning: invalid value encountered in subtract\n",
      "  z = (scores - mn) / std\n"
     ]
    }
   ],
   "execution_count": 107
  },
  {
   "metadata": {
    "ExecuteTime": {
     "end_time": "2024-05-28T12:02:26.045354Z",
     "start_time": "2024-05-28T12:02:25.243254Z"
    }
   },
   "cell_type": "code",
   "source": [
    "# filter out use time that is less than 1 minute\n",
    "loc_time = df_time.loc[df_time.time_difference > 60 * 1000]\n",
    "\n",
    "res = pd.DataFrame(columns=['foreground_time', 'max_amplitude'])\n",
    "for index, row in loc_time.iterrows():\n",
    "    foreground_time = row['foreground_time']\n",
    "    background_time = row['background_time']\n",
    "\n",
    "    (ts_target, ts_after) = get_key_timestamps(foreground_time, 60 * 1000, df_eda)\n",
    "\n",
    "    if ts_target > 0 and ts_after > 0:\n",
    "        df_analyse = df_eda.loc[(df_eda['timestamp'] >= ts_target) & (df_eda['timestamp'] <= ts_after)]\n",
    "\n",
    "        # data is too short to get meaningful result\n",
    "        if (len(df_analyse)) < 15 * 2:\n",
    "            continue\n",
    "\n",
    "        eda_res, info = eda_process(df_analyse['conductance'], 5, kwargs_phasic='SparsEDA')\n",
    "\n",
    "        res.loc[len(res)] = [foreground_time, np.nanmax(info['SCR_Amplitude'])]\n",
    "\n",
    "res.to_csv(eda_output_path + participant_key + '_eda_result.csv', index=False)\n",
    "print(participant_key + ' done')"
   ],
   "id": "767942cb29e4a727",
   "outputs": [
    {
     "name": "stderr",
     "output_type": "stream",
     "text": [
      "C:\\Users\\xchen\\.virtualenvs\\INFOMQNM-Project-AQz3gs5P\\Lib\\site-packages\\neurokit2\\eda\\eda_clean.py:69: NeuroKitWarning: There are 303 missing data points in your signal. Filling missing values by using the forward filling method.\n",
      "  warn(\n",
      "C:\\Users\\xchen\\.virtualenvs\\INFOMQNM-Project-AQz3gs5P\\Lib\\site-packages\\neurokit2\\eda\\eda_clean.py:94: FutureWarning: DataFrame.pad/Series.pad is deprecated. Use DataFrame.ffill/Series.ffill instead\n",
      "  eda_signal = pd.DataFrame.pad(pd.Series(eda_signal))\n",
      "C:\\Users\\xchen\\.virtualenvs\\INFOMQNM-Project-AQz3gs5P\\Lib\\site-packages\\neurokit2\\eda\\eda_clean.py:105: NeuroKitWarning: EDA signal is sampled at very low frequency. Skipping filtering.\n",
      "  warn(\n"
     ]
    },
    {
     "ename": "KeyError",
     "evalue": "0",
     "output_type": "error",
     "traceback": [
      "\u001B[1;31m---------------------------------------------------------------------------\u001B[0m",
      "\u001B[1;31mKeyError\u001B[0m                                  Traceback (most recent call last)",
      "File \u001B[1;32m~\\.virtualenvs\\INFOMQNM-Project-AQz3gs5P\\Lib\\site-packages\\pandas\\core\\indexes\\base.py:3805\u001B[0m, in \u001B[0;36mIndex.get_loc\u001B[1;34m(self, key)\u001B[0m\n\u001B[0;32m   3804\u001B[0m \u001B[38;5;28;01mtry\u001B[39;00m:\n\u001B[1;32m-> 3805\u001B[0m     \u001B[38;5;28;01mreturn\u001B[39;00m \u001B[38;5;28;43mself\u001B[39;49m\u001B[38;5;241;43m.\u001B[39;49m\u001B[43m_engine\u001B[49m\u001B[38;5;241;43m.\u001B[39;49m\u001B[43mget_loc\u001B[49m\u001B[43m(\u001B[49m\u001B[43mcasted_key\u001B[49m\u001B[43m)\u001B[49m\n\u001B[0;32m   3806\u001B[0m \u001B[38;5;28;01mexcept\u001B[39;00m \u001B[38;5;167;01mKeyError\u001B[39;00m \u001B[38;5;28;01mas\u001B[39;00m err:\n",
      "File \u001B[1;32mindex.pyx:167\u001B[0m, in \u001B[0;36mpandas._libs.index.IndexEngine.get_loc\u001B[1;34m()\u001B[0m\n",
      "File \u001B[1;32mindex.pyx:196\u001B[0m, in \u001B[0;36mpandas._libs.index.IndexEngine.get_loc\u001B[1;34m()\u001B[0m\n",
      "File \u001B[1;32mpandas\\\\_libs\\\\hashtable_class_helper.pxi:2606\u001B[0m, in \u001B[0;36mpandas._libs.hashtable.Int64HashTable.get_item\u001B[1;34m()\u001B[0m\n",
      "File \u001B[1;32mpandas\\\\_libs\\\\hashtable_class_helper.pxi:2630\u001B[0m, in \u001B[0;36mpandas._libs.hashtable.Int64HashTable.get_item\u001B[1;34m()\u001B[0m\n",
      "\u001B[1;31mKeyError\u001B[0m: 0",
      "\nThe above exception was the direct cause of the following exception:\n",
      "\u001B[1;31mKeyError\u001B[0m                                  Traceback (most recent call last)",
      "Cell \u001B[1;32mIn[102], line 18\u001B[0m\n\u001B[0;32m     15\u001B[0m         \u001B[38;5;28;01mif\u001B[39;00m (\u001B[38;5;28mlen\u001B[39m(df_analyse)) \u001B[38;5;241m<\u001B[39m \u001B[38;5;241m15\u001B[39m \u001B[38;5;241m*\u001B[39m \u001B[38;5;241m2\u001B[39m:\n\u001B[0;32m     16\u001B[0m             \u001B[38;5;28;01mcontinue\u001B[39;00m\n\u001B[1;32m---> 18\u001B[0m         eda_res, info \u001B[38;5;241m=\u001B[39m \u001B[43meda_process\u001B[49m\u001B[43m(\u001B[49m\u001B[43mdf_analyse\u001B[49m\u001B[43m[\u001B[49m\u001B[38;5;124;43m'\u001B[39;49m\u001B[38;5;124;43mconductance\u001B[39;49m\u001B[38;5;124;43m'\u001B[39;49m\u001B[43m]\u001B[49m\u001B[43m,\u001B[49m\u001B[43m \u001B[49m\u001B[38;5;241;43m5\u001B[39;49m\u001B[43m,\u001B[49m\u001B[43m \u001B[49m\u001B[43mkwargs_phasic\u001B[49m\u001B[38;5;241;43m=\u001B[39;49m\u001B[38;5;124;43m'\u001B[39;49m\u001B[38;5;124;43mSparsEDA\u001B[39;49m\u001B[38;5;124;43m'\u001B[39;49m\u001B[43m)\u001B[49m\n\u001B[0;32m     20\u001B[0m         res\u001B[38;5;241m.\u001B[39mloc[\u001B[38;5;28mlen\u001B[39m(res)] \u001B[38;5;241m=\u001B[39m [foreground_time, np\u001B[38;5;241m.\u001B[39mnanmax(info[\u001B[38;5;124m'\u001B[39m\u001B[38;5;124mSCR_Amplitude\u001B[39m\u001B[38;5;124m'\u001B[39m])]\n\u001B[0;32m     22\u001B[0m res\u001B[38;5;241m.\u001B[39mto_csv(eda_output_path \u001B[38;5;241m+\u001B[39m participant_key \u001B[38;5;241m+\u001B[39m \u001B[38;5;124m'\u001B[39m\u001B[38;5;124m_eda_result.csv\u001B[39m\u001B[38;5;124m'\u001B[39m, index\u001B[38;5;241m=\u001B[39m\u001B[38;5;28;01mFalse\u001B[39;00m)\n",
      "File \u001B[1;32m~\\.virtualenvs\\INFOMQNM-Project-AQz3gs5P\\Lib\\site-packages\\neurokit2\\eda\\eda_process.py:106\u001B[0m, in \u001B[0;36meda_process\u001B[1;34m(eda_signal, sampling_rate, method, report, **kwargs)\u001B[0m\n\u001B[0;32m    104\u001B[0m     eda_decomposed \u001B[38;5;241m=\u001B[39m pd\u001B[38;5;241m.\u001B[39mDataFrame({\u001B[38;5;124m\"\u001B[39m\u001B[38;5;124mEDA_Phasic\u001B[39m\u001B[38;5;124m\"\u001B[39m: eda_cleaned})\n\u001B[0;32m    105\u001B[0m \u001B[38;5;28;01melse\u001B[39;00m:\n\u001B[1;32m--> 106\u001B[0m     eda_decomposed \u001B[38;5;241m=\u001B[39m \u001B[43meda_phasic\u001B[49m\u001B[43m(\u001B[49m\n\u001B[0;32m    107\u001B[0m \u001B[43m        \u001B[49m\u001B[43meda_cleaned\u001B[49m\u001B[43m,\u001B[49m\n\u001B[0;32m    108\u001B[0m \u001B[43m        \u001B[49m\u001B[43msampling_rate\u001B[49m\u001B[38;5;241;43m=\u001B[39;49m\u001B[43msampling_rate\u001B[49m\u001B[43m,\u001B[49m\n\u001B[0;32m    109\u001B[0m \u001B[43m        \u001B[49m\u001B[43mmethod\u001B[49m\u001B[38;5;241;43m=\u001B[39;49m\u001B[43mmethods\u001B[49m\u001B[43m[\u001B[49m\u001B[38;5;124;43m\"\u001B[39;49m\u001B[38;5;124;43mmethod_phasic\u001B[39;49m\u001B[38;5;124;43m\"\u001B[39;49m\u001B[43m]\u001B[49m\u001B[43m,\u001B[49m\n\u001B[0;32m    110\u001B[0m \u001B[43m        \u001B[49m\u001B[38;5;241;43m*\u001B[39;49m\u001B[38;5;241;43m*\u001B[39;49m\u001B[43mmethods\u001B[49m\u001B[43m[\u001B[49m\u001B[38;5;124;43m\"\u001B[39;49m\u001B[38;5;124;43mkwargs_phasic\u001B[39;49m\u001B[38;5;124;43m\"\u001B[39;49m\u001B[43m]\u001B[49m\u001B[43m,\u001B[49m\n\u001B[0;32m    111\u001B[0m \u001B[43m    \u001B[49m\u001B[43m)\u001B[49m\n\u001B[0;32m    113\u001B[0m \u001B[38;5;66;03m# Find peaks\u001B[39;00m\n\u001B[0;32m    114\u001B[0m peak_signal, info \u001B[38;5;241m=\u001B[39m eda_peaks(\n\u001B[0;32m    115\u001B[0m     eda_decomposed[\u001B[38;5;124m\"\u001B[39m\u001B[38;5;124mEDA_Phasic\u001B[39m\u001B[38;5;124m\"\u001B[39m]\u001B[38;5;241m.\u001B[39mvalues,\n\u001B[0;32m    116\u001B[0m     sampling_rate\u001B[38;5;241m=\u001B[39msampling_rate,\n\u001B[1;32m   (...)\u001B[0m\n\u001B[0;32m    119\u001B[0m     \u001B[38;5;241m*\u001B[39m\u001B[38;5;241m*\u001B[39mmethods[\u001B[38;5;124m\"\u001B[39m\u001B[38;5;124mkwargs_peaks\u001B[39m\u001B[38;5;124m\"\u001B[39m],\n\u001B[0;32m    120\u001B[0m )\n",
      "File \u001B[1;32m~\\.virtualenvs\\INFOMQNM-Project-AQz3gs5P\\Lib\\site-packages\\neurokit2\\eda\\eda_phasic.py:129\u001B[0m, in \u001B[0;36meda_phasic\u001B[1;34m(eda_signal, sampling_rate, method, **kwargs)\u001B[0m\n\u001B[0;32m    127\u001B[0m     tonic, phasic \u001B[38;5;241m=\u001B[39m _eda_phasic_mediansmooth(eda_signal, sampling_rate, \u001B[38;5;241m*\u001B[39m\u001B[38;5;241m*\u001B[39mkwargs)\n\u001B[0;32m    128\u001B[0m \u001B[38;5;28;01melif\u001B[39;00m method \u001B[38;5;129;01min\u001B[39;00m [\u001B[38;5;124m\"\u001B[39m\u001B[38;5;124mneurokit\u001B[39m\u001B[38;5;124m\"\u001B[39m, \u001B[38;5;124m\"\u001B[39m\u001B[38;5;124mhighpass\u001B[39m\u001B[38;5;124m\"\u001B[39m, \u001B[38;5;124m\"\u001B[39m\u001B[38;5;124mbiopac\u001B[39m\u001B[38;5;124m\"\u001B[39m, \u001B[38;5;124m\"\u001B[39m\u001B[38;5;124macqknowledge\u001B[39m\u001B[38;5;124m\"\u001B[39m]:\n\u001B[1;32m--> 129\u001B[0m     tonic, phasic \u001B[38;5;241m=\u001B[39m \u001B[43m_eda_phasic_highpass\u001B[49m\u001B[43m(\u001B[49m\u001B[43meda_signal\u001B[49m\u001B[43m,\u001B[49m\u001B[43m \u001B[49m\u001B[43msampling_rate\u001B[49m\u001B[43m,\u001B[49m\u001B[43m \u001B[49m\u001B[38;5;241;43m*\u001B[39;49m\u001B[38;5;241;43m*\u001B[39;49m\u001B[43mkwargs\u001B[49m\u001B[43m)\u001B[49m\n\u001B[0;32m    130\u001B[0m \u001B[38;5;28;01melse\u001B[39;00m:\n\u001B[0;32m    131\u001B[0m     \u001B[38;5;28;01mraise\u001B[39;00m \u001B[38;5;167;01mValueError\u001B[39;00m(\n\u001B[0;32m    132\u001B[0m         \u001B[38;5;124m\"\u001B[39m\u001B[38;5;124mNeuroKit error: eda_phasic(): \u001B[39m\u001B[38;5;124m'\u001B[39m\u001B[38;5;124mmethod\u001B[39m\u001B[38;5;124m'\u001B[39m\u001B[38;5;124m should be one of \u001B[39m\u001B[38;5;124m\"\u001B[39m\n\u001B[0;32m    133\u001B[0m         \u001B[38;5;124m\"\u001B[39m\u001B[38;5;124m'\u001B[39m\u001B[38;5;124mcvxeda\u001B[39m\u001B[38;5;124m'\u001B[39m\u001B[38;5;124m, \u001B[39m\u001B[38;5;124m'\u001B[39m\u001B[38;5;124mmedian\u001B[39m\u001B[38;5;124m'\u001B[39m\u001B[38;5;124m, \u001B[39m\u001B[38;5;124m'\u001B[39m\u001B[38;5;124msmoothmedian\u001B[39m\u001B[38;5;124m'\u001B[39m\u001B[38;5;124m, \u001B[39m\u001B[38;5;124m'\u001B[39m\u001B[38;5;124mneurokit\u001B[39m\u001B[38;5;124m'\u001B[39m\u001B[38;5;124m, \u001B[39m\u001B[38;5;124m'\u001B[39m\u001B[38;5;124mhighpass\u001B[39m\u001B[38;5;124m'\u001B[39m\u001B[38;5;124m, \u001B[39m\u001B[38;5;124m\"\u001B[39m\n\u001B[0;32m    134\u001B[0m         \u001B[38;5;124m\"\u001B[39m\u001B[38;5;124m'\u001B[39m\u001B[38;5;124mbiopac\u001B[39m\u001B[38;5;124m'\u001B[39m\u001B[38;5;124m, \u001B[39m\u001B[38;5;124m'\u001B[39m\u001B[38;5;124macqknowledge\u001B[39m\u001B[38;5;124m'\u001B[39m\u001B[38;5;124m.\u001B[39m\u001B[38;5;124m\"\u001B[39m\n\u001B[0;32m    135\u001B[0m     )\n",
      "File \u001B[1;32m~\\.virtualenvs\\INFOMQNM-Project-AQz3gs5P\\Lib\\site-packages\\neurokit2\\eda\\eda_phasic.py:156\u001B[0m, in \u001B[0;36m_eda_phasic_highpass\u001B[1;34m(eda_signal, sampling_rate, cutoff)\u001B[0m\n\u001B[0;32m    153\u001B[0m \u001B[38;5;28;01mdef\u001B[39;00m \u001B[38;5;21m_eda_phasic_highpass\u001B[39m(eda_signal, sampling_rate\u001B[38;5;241m=\u001B[39m\u001B[38;5;241m1000\u001B[39m, cutoff\u001B[38;5;241m=\u001B[39m\u001B[38;5;241m0.05\u001B[39m):\n\u001B[0;32m    154\u001B[0m \u001B[38;5;250m    \u001B[39m\u001B[38;5;124;03m\"\"\"One of the two methods available in biopac's acqknowledge (https://www.biopac.com/knowledge-base/phasic-eda-\u001B[39;00m\n\u001B[0;32m    155\u001B[0m \u001B[38;5;124;03m    issue/)\"\"\"\u001B[39;00m\n\u001B[1;32m--> 156\u001B[0m     phasic \u001B[38;5;241m=\u001B[39m \u001B[43msignal_filter\u001B[49m\u001B[43m(\u001B[49m\u001B[43meda_signal\u001B[49m\u001B[43m,\u001B[49m\u001B[43m \u001B[49m\u001B[43msampling_rate\u001B[49m\u001B[38;5;241;43m=\u001B[39;49m\u001B[43msampling_rate\u001B[49m\u001B[43m,\u001B[49m\u001B[43m \u001B[49m\u001B[43mlowcut\u001B[49m\u001B[38;5;241;43m=\u001B[39;49m\u001B[43mcutoff\u001B[49m\u001B[43m,\u001B[49m\u001B[43m \u001B[49m\u001B[43mmethod\u001B[49m\u001B[38;5;241;43m=\u001B[39;49m\u001B[38;5;124;43m\"\u001B[39;49m\u001B[38;5;124;43mbutter\u001B[39;49m\u001B[38;5;124;43m\"\u001B[39;49m\u001B[43m)\u001B[49m\n\u001B[0;32m    157\u001B[0m     tonic \u001B[38;5;241m=\u001B[39m signal_filter(eda_signal, sampling_rate\u001B[38;5;241m=\u001B[39msampling_rate, highcut\u001B[38;5;241m=\u001B[39mcutoff, method\u001B[38;5;241m=\u001B[39m\u001B[38;5;124m\"\u001B[39m\u001B[38;5;124mbutter\u001B[39m\u001B[38;5;124m\"\u001B[39m)\n\u001B[0;32m    159\u001B[0m     \u001B[38;5;28;01mreturn\u001B[39;00m tonic, phasic\n",
      "File \u001B[1;32m~\\.virtualenvs\\INFOMQNM-Project-AQz3gs5P\\Lib\\site-packages\\neurokit2\\signal\\signal_filter.py:147\u001B[0m, in \u001B[0;36msignal_filter\u001B[1;34m(signal, sampling_rate, lowcut, highcut, method, order, window_size, powerline, show)\u001B[0m\n\u001B[0;32m     23\u001B[0m \u001B[38;5;250m\u001B[39m\u001B[38;5;124;03m\"\"\"**Signal filtering**\u001B[39;00m\n\u001B[0;32m     24\u001B[0m \n\u001B[0;32m     25\u001B[0m \u001B[38;5;124;03mFilter a signal using different methods such as \"butterworth\", \"fir\", \"savgol\" or \"powerline\"\u001B[39;00m\n\u001B[1;32m   (...)\u001B[0m\n\u001B[0;32m    143\u001B[0m \n\u001B[0;32m    144\u001B[0m \u001B[38;5;124;03m\"\"\"\u001B[39;00m\n\u001B[0;32m    145\u001B[0m method \u001B[38;5;241m=\u001B[39m method\u001B[38;5;241m.\u001B[39mlower()\n\u001B[1;32m--> 147\u001B[0m signal_sanitized, missing \u001B[38;5;241m=\u001B[39m \u001B[43m_signal_filter_missing\u001B[49m\u001B[43m(\u001B[49m\u001B[43msignal\u001B[49m\u001B[43m)\u001B[49m\n\u001B[0;32m    149\u001B[0m \u001B[38;5;28;01mif\u001B[39;00m method \u001B[38;5;129;01min\u001B[39;00m [\u001B[38;5;124m\"\u001B[39m\u001B[38;5;124msg\u001B[39m\u001B[38;5;124m\"\u001B[39m, \u001B[38;5;124m\"\u001B[39m\u001B[38;5;124msavgol\u001B[39m\u001B[38;5;124m\"\u001B[39m, \u001B[38;5;124m\"\u001B[39m\u001B[38;5;124msavitzky-golay\u001B[39m\u001B[38;5;124m\"\u001B[39m]:\n\u001B[0;32m    150\u001B[0m     filtered \u001B[38;5;241m=\u001B[39m _signal_filter_savgol(signal_sanitized, sampling_rate, order, window_size\u001B[38;5;241m=\u001B[39mwindow_size)\n",
      "File \u001B[1;32m~\\.virtualenvs\\INFOMQNM-Project-AQz3gs5P\\Lib\\site-packages\\neurokit2\\signal\\signal_filter.py:367\u001B[0m, in \u001B[0;36m_signal_filter_missing\u001B[1;34m(signal)\u001B[0m\n\u001B[0;32m    365\u001B[0m missing \u001B[38;5;241m=\u001B[39m np\u001B[38;5;241m.\u001B[39mwhere(np\u001B[38;5;241m.\u001B[39misnan(signal))[\u001B[38;5;241m0\u001B[39m]\n\u001B[0;32m    366\u001B[0m \u001B[38;5;28;01mif\u001B[39;00m \u001B[38;5;28mlen\u001B[39m(missing) \u001B[38;5;241m>\u001B[39m \u001B[38;5;241m0\u001B[39m:\n\u001B[1;32m--> 367\u001B[0m     \u001B[38;5;28;01mreturn\u001B[39;00m \u001B[43msignal_interpolate\u001B[49m\u001B[43m(\u001B[49m\u001B[43msignal\u001B[49m\u001B[43m,\u001B[49m\u001B[43m \u001B[49m\u001B[43mmethod\u001B[49m\u001B[38;5;241;43m=\u001B[39;49m\u001B[38;5;124;43m\"\u001B[39;49m\u001B[38;5;124;43mlinear\u001B[39;49m\u001B[38;5;124;43m\"\u001B[39;49m\u001B[43m)\u001B[49m, missing\n\u001B[0;32m    368\u001B[0m \u001B[38;5;28;01melse\u001B[39;00m:\n\u001B[0;32m    369\u001B[0m     \u001B[38;5;28;01mreturn\u001B[39;00m signal, missing\n",
      "File \u001B[1;32m~\\.virtualenvs\\INFOMQNM-Project-AQz3gs5P\\Lib\\site-packages\\neurokit2\\signal\\signal_interpolate.py:98\u001B[0m, in \u001B[0;36msignal_interpolate\u001B[1;34m(x_values, y_values, x_new, method, fill_value)\u001B[0m\n\u001B[0;32m     93\u001B[0m     \u001B[38;5;28;01mraise\u001B[39;00m \u001B[38;5;167;01mValueError\u001B[39;00m(\n\u001B[0;32m     94\u001B[0m         \u001B[38;5;124m\"\u001B[39m\u001B[38;5;124mNeuroKit error: signal_interpolate(): x_values must be provided.\u001B[39m\u001B[38;5;124m\"\u001B[39m\n\u001B[0;32m     95\u001B[0m     )\n\u001B[0;32m     96\u001B[0m \u001B[38;5;28;01mif\u001B[39;00m y_values \u001B[38;5;129;01mis\u001B[39;00m \u001B[38;5;28;01mNone\u001B[39;00m:\n\u001B[0;32m     97\u001B[0m     \u001B[38;5;66;03m# for interpolating NaNs\u001B[39;00m\n\u001B[1;32m---> 98\u001B[0m     \u001B[38;5;28;01mreturn\u001B[39;00m \u001B[43m_signal_interpolate_nan\u001B[49m\u001B[43m(\u001B[49m\u001B[43mx_values\u001B[49m\u001B[43m,\u001B[49m\u001B[43m \u001B[49m\u001B[43mmethod\u001B[49m\u001B[38;5;241;43m=\u001B[39;49m\u001B[43mmethod\u001B[49m\u001B[43m,\u001B[49m\u001B[43m \u001B[49m\u001B[43mfill_value\u001B[49m\u001B[38;5;241;43m=\u001B[39;49m\u001B[43mfill_value\u001B[49m\u001B[43m)\u001B[49m\n\u001B[0;32m     99\u001B[0m \u001B[38;5;28;01mif\u001B[39;00m \u001B[38;5;28misinstance\u001B[39m(x_values, pd\u001B[38;5;241m.\u001B[39mSeries):\n\u001B[0;32m    100\u001B[0m     x_values \u001B[38;5;241m=\u001B[39m np\u001B[38;5;241m.\u001B[39msqueeze(x_values\u001B[38;5;241m.\u001B[39mvalues)\n",
      "File \u001B[1;32m~\\.virtualenvs\\INFOMQNM-Project-AQz3gs5P\\Lib\\site-packages\\neurokit2\\signal\\signal_interpolate.py:184\u001B[0m, in \u001B[0;36m_signal_interpolate_nan\u001B[1;34m(values, method, fill_value)\u001B[0m\n\u001B[0;32m    181\u001B[0m     x_values \u001B[38;5;241m=\u001B[39m x_new[not_missing]\n\u001B[0;32m    183\u001B[0m     \u001B[38;5;66;03m# interpolate to get the values at the indices where they are missing\u001B[39;00m\n\u001B[1;32m--> 184\u001B[0m     \u001B[38;5;28;01mreturn\u001B[39;00m \u001B[43msignal_interpolate\u001B[49m\u001B[43m(\u001B[49m\n\u001B[0;32m    185\u001B[0m \u001B[43m        \u001B[49m\u001B[43mx_values\u001B[49m\u001B[38;5;241;43m=\u001B[39;49m\u001B[43mx_values\u001B[49m\u001B[43m,\u001B[49m\n\u001B[0;32m    186\u001B[0m \u001B[43m        \u001B[49m\u001B[43my_values\u001B[49m\u001B[38;5;241;43m=\u001B[39;49m\u001B[43my_values\u001B[49m\u001B[43m,\u001B[49m\n\u001B[0;32m    187\u001B[0m \u001B[43m        \u001B[49m\u001B[43mx_new\u001B[49m\u001B[38;5;241;43m=\u001B[39;49m\u001B[43mx_new\u001B[49m\u001B[43m,\u001B[49m\n\u001B[0;32m    188\u001B[0m \u001B[43m        \u001B[49m\u001B[43mmethod\u001B[49m\u001B[38;5;241;43m=\u001B[39;49m\u001B[43mmethod\u001B[49m\u001B[43m,\u001B[49m\n\u001B[0;32m    189\u001B[0m \u001B[43m        \u001B[49m\u001B[43mfill_value\u001B[49m\u001B[38;5;241;43m=\u001B[39;49m\u001B[43mfill_value\u001B[49m\u001B[43m,\u001B[49m\n\u001B[0;32m    190\u001B[0m \u001B[43m    \u001B[49m\u001B[43m)\u001B[49m\n\u001B[0;32m    191\u001B[0m \u001B[38;5;28;01melse\u001B[39;00m:\n\u001B[0;32m    192\u001B[0m     \u001B[38;5;66;03m# if there are no missing values, return original values\u001B[39;00m\n\u001B[0;32m    193\u001B[0m     \u001B[38;5;28;01mreturn\u001B[39;00m values\n",
      "File \u001B[1;32m~\\.virtualenvs\\INFOMQNM-Project-AQz3gs5P\\Lib\\site-packages\\neurokit2\\signal\\signal_interpolate.py:138\u001B[0m, in \u001B[0;36msignal_interpolate\u001B[1;34m(x_values, y_values, x_new, method, fill_value)\u001B[0m\n\u001B[0;32m    136\u001B[0m \u001B[38;5;28;01melse\u001B[39;00m:\n\u001B[0;32m    137\u001B[0m     \u001B[38;5;28;01mif\u001B[39;00m fill_value \u001B[38;5;129;01mis\u001B[39;00m \u001B[38;5;28;01mNone\u001B[39;00m:\n\u001B[1;32m--> 138\u001B[0m         fill_value \u001B[38;5;241m=\u001B[39m ([\u001B[43my_values\u001B[49m\u001B[43m[\u001B[49m\u001B[38;5;241;43m0\u001B[39;49m\u001B[43m]\u001B[49m], [y_values[\u001B[38;5;241m-\u001B[39m\u001B[38;5;241m1\u001B[39m]])\n\u001B[0;32m    139\u001B[0m     interpolation_function \u001B[38;5;241m=\u001B[39m scipy\u001B[38;5;241m.\u001B[39minterpolate\u001B[38;5;241m.\u001B[39minterp1d(\n\u001B[0;32m    140\u001B[0m         x_values,\n\u001B[0;32m    141\u001B[0m         y_values,\n\u001B[1;32m   (...)\u001B[0m\n\u001B[0;32m    144\u001B[0m         fill_value\u001B[38;5;241m=\u001B[39mfill_value,\n\u001B[0;32m    145\u001B[0m     )\n\u001B[0;32m    147\u001B[0m interpolated \u001B[38;5;241m=\u001B[39m interpolation_function(x_new)\n",
      "File \u001B[1;32m~\\.virtualenvs\\INFOMQNM-Project-AQz3gs5P\\Lib\\site-packages\\pandas\\core\\series.py:1121\u001B[0m, in \u001B[0;36mSeries.__getitem__\u001B[1;34m(self, key)\u001B[0m\n\u001B[0;32m   1118\u001B[0m     \u001B[38;5;28;01mreturn\u001B[39;00m \u001B[38;5;28mself\u001B[39m\u001B[38;5;241m.\u001B[39m_values[key]\n\u001B[0;32m   1120\u001B[0m \u001B[38;5;28;01melif\u001B[39;00m key_is_scalar:\n\u001B[1;32m-> 1121\u001B[0m     \u001B[38;5;28;01mreturn\u001B[39;00m \u001B[38;5;28;43mself\u001B[39;49m\u001B[38;5;241;43m.\u001B[39;49m\u001B[43m_get_value\u001B[49m\u001B[43m(\u001B[49m\u001B[43mkey\u001B[49m\u001B[43m)\u001B[49m\n\u001B[0;32m   1123\u001B[0m \u001B[38;5;66;03m# Convert generator to list before going through hashable part\u001B[39;00m\n\u001B[0;32m   1124\u001B[0m \u001B[38;5;66;03m# (We will iterate through the generator there to check for slices)\u001B[39;00m\n\u001B[0;32m   1125\u001B[0m \u001B[38;5;28;01mif\u001B[39;00m is_iterator(key):\n",
      "File \u001B[1;32m~\\.virtualenvs\\INFOMQNM-Project-AQz3gs5P\\Lib\\site-packages\\pandas\\core\\series.py:1237\u001B[0m, in \u001B[0;36mSeries._get_value\u001B[1;34m(self, label, takeable)\u001B[0m\n\u001B[0;32m   1234\u001B[0m     \u001B[38;5;28;01mreturn\u001B[39;00m \u001B[38;5;28mself\u001B[39m\u001B[38;5;241m.\u001B[39m_values[label]\n\u001B[0;32m   1236\u001B[0m \u001B[38;5;66;03m# Similar to Index.get_value, but we do not fall back to positional\u001B[39;00m\n\u001B[1;32m-> 1237\u001B[0m loc \u001B[38;5;241m=\u001B[39m \u001B[38;5;28;43mself\u001B[39;49m\u001B[38;5;241;43m.\u001B[39;49m\u001B[43mindex\u001B[49m\u001B[38;5;241;43m.\u001B[39;49m\u001B[43mget_loc\u001B[49m\u001B[43m(\u001B[49m\u001B[43mlabel\u001B[49m\u001B[43m)\u001B[49m\n\u001B[0;32m   1239\u001B[0m \u001B[38;5;28;01mif\u001B[39;00m is_integer(loc):\n\u001B[0;32m   1240\u001B[0m     \u001B[38;5;28;01mreturn\u001B[39;00m \u001B[38;5;28mself\u001B[39m\u001B[38;5;241m.\u001B[39m_values[loc]\n",
      "File \u001B[1;32m~\\.virtualenvs\\INFOMQNM-Project-AQz3gs5P\\Lib\\site-packages\\pandas\\core\\indexes\\base.py:3812\u001B[0m, in \u001B[0;36mIndex.get_loc\u001B[1;34m(self, key)\u001B[0m\n\u001B[0;32m   3807\u001B[0m     \u001B[38;5;28;01mif\u001B[39;00m \u001B[38;5;28misinstance\u001B[39m(casted_key, \u001B[38;5;28mslice\u001B[39m) \u001B[38;5;129;01mor\u001B[39;00m (\n\u001B[0;32m   3808\u001B[0m         \u001B[38;5;28misinstance\u001B[39m(casted_key, abc\u001B[38;5;241m.\u001B[39mIterable)\n\u001B[0;32m   3809\u001B[0m         \u001B[38;5;129;01mand\u001B[39;00m \u001B[38;5;28many\u001B[39m(\u001B[38;5;28misinstance\u001B[39m(x, \u001B[38;5;28mslice\u001B[39m) \u001B[38;5;28;01mfor\u001B[39;00m x \u001B[38;5;129;01min\u001B[39;00m casted_key)\n\u001B[0;32m   3810\u001B[0m     ):\n\u001B[0;32m   3811\u001B[0m         \u001B[38;5;28;01mraise\u001B[39;00m InvalidIndexError(key)\n\u001B[1;32m-> 3812\u001B[0m     \u001B[38;5;28;01mraise\u001B[39;00m \u001B[38;5;167;01mKeyError\u001B[39;00m(key) \u001B[38;5;28;01mfrom\u001B[39;00m \u001B[38;5;21;01merr\u001B[39;00m\n\u001B[0;32m   3813\u001B[0m \u001B[38;5;28;01mexcept\u001B[39;00m \u001B[38;5;167;01mTypeError\u001B[39;00m:\n\u001B[0;32m   3814\u001B[0m     \u001B[38;5;66;03m# If we have a listlike key, _check_indexing_error will raise\u001B[39;00m\n\u001B[0;32m   3815\u001B[0m     \u001B[38;5;66;03m#  InvalidIndexError. Otherwise we fall through and re-raise\u001B[39;00m\n\u001B[0;32m   3816\u001B[0m     \u001B[38;5;66;03m#  the TypeError.\u001B[39;00m\n\u001B[0;32m   3817\u001B[0m     \u001B[38;5;28mself\u001B[39m\u001B[38;5;241m.\u001B[39m_check_indexing_error(key)\n",
      "\u001B[1;31mKeyError\u001B[0m: 0"
     ]
    }
   ],
   "execution_count": 102
  }
 ],
 "metadata": {
  "kernelspec": {
   "display_name": "Python 3",
   "language": "python",
   "name": "python3"
  },
  "language_info": {
   "codemirror_mode": {
    "name": "ipython",
    "version": 2
   },
   "file_extension": ".py",
   "mimetype": "text/x-python",
   "name": "python",
   "nbconvert_exporter": "python",
   "pygments_lexer": "ipython2",
   "version": "2.7.6"
  }
 },
 "nbformat": 4,
 "nbformat_minor": 5
}
