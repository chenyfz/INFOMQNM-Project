{
 "cells": [
  {
   "cell_type": "code",
   "id": "initial_id",
   "metadata": {
    "collapsed": true,
    "ExecuteTime": {
     "end_time": "2024-06-13T20:37:00.873572Z",
     "start_time": "2024-06-13T20:36:59.946036Z"
    }
   },
   "source": [
    "import numpy as np\n",
    "import pandas as pd\n",
    "import scipy\n",
    "from matplotlib import pyplot as plt\n",
    "\n",
    "df_hrv = pd.read_csv('analyse_data/hrv-results.csv')\n",
    "df_eda = pd.read_csv('analyse_data/eda-results.csv')\n",
    "df_traits = pd.read_csv('dataset/SubjData/UserInfo.csv')\n",
    "\n",
    "df = pd.merge(df_hrv, df_eda, on='pcode')\n",
    "\n",
    "df = df[['pcode','CVSD_mean','scr_count_per_minute']]\n",
    "df = pd.merge(df, df_traits, on='pcode')\n",
    "\n",
    "print(df)"
   ],
   "outputs": [
    {
     "name": "stdout",
     "output_type": "stream",
     "text": [
      "   pcode  CVSD_mean  scr_count_per_minute participationStartDate  age gender  \\\n",
      "0    P51   0.239401              2.253452             2019-05-16   24      M   \n",
      "1    P69   0.237298              3.045608             2019-04-30   18      M   \n",
      "2    P54   0.234785              2.368496             2019-04-30   19      M   \n",
      "3    P21   0.226616              1.725127             2019-05-08   25      F   \n",
      "4    P46   0.214661              2.688492             2019-05-16   20      F   \n",
      "..   ...        ...                   ...                    ...  ...    ...   \n",
      "62   P11   0.127721              2.654889             2019-05-08   20      F   \n",
      "63   P39   0.119939              2.151300             2019-05-16   18      F   \n",
      "64   P33   0.119632              2.513683             2019-05-16   19      F   \n",
      "65   P14   0.118308              2.781259             2019-05-08   18      M   \n",
      "66   P18   0.088613              2.032742             2019-05-08   20      F   \n",
      "\n",
      "    openness  conscientiousness  neuroticism  extraversion  agreeableness  \\\n",
      "0          6                  9            9             4             13   \n",
      "1          3                  6           10             9              7   \n",
      "2         12                 11            6            10             11   \n",
      "3         12                  5            8             8              8   \n",
      "4          7                 12            8            11             11   \n",
      "..       ...                ...          ...           ...            ...   \n",
      "62        10                 13            4             8             13   \n",
      "63        12                 11            7             8              7   \n",
      "64         8                 14            6            13              5   \n",
      "65        12                 13            7             9             14   \n",
      "66        13                 12            7            13             12   \n",
      "\n",
      "    PSS  PHQ  GHQ  \n",
      "0    32   13   18  \n",
      "1    22    4   16  \n",
      "2    21    3   14  \n",
      "3    12    5    8  \n",
      "4    19    2   14  \n",
      "..  ...  ...  ...  \n",
      "62   10    2   14  \n",
      "63    8    0    3  \n",
      "64   16    2   13  \n",
      "65    7    2    1  \n",
      "66    9    3    9  \n",
      "\n",
      "[67 rows x 14 columns]\n"
     ]
    }
   ],
   "execution_count": 1
  },
  {
   "cell_type": "code",
   "id": "60cffc2ebfdfaa82",
   "metadata": {
    "ExecuteTime": {
     "end_time": "2024-06-13T20:37:01.015032Z",
     "start_time": "2024-06-13T20:37:00.875582Z"
    }
   },
   "source": [
    "plt.scatter(df['CVSD_mean'], df['scr_count_per_minute'])"
   ],
   "outputs": [
    {
     "data": {
      "text/plain": [
       "<matplotlib.collections.PathCollection at 0x24a29696990>"
      ]
     },
     "execution_count": 2,
     "metadata": {},
     "output_type": "execute_result"
    },
    {
     "data": {
      "text/plain": [
       "<Figure size 640x480 with 1 Axes>"
      ],
      "image/png": "[encoded data removed]"
     },
     "metadata": {},
     "output_type": "display_data"
    }
   ],
   "execution_count": 2
  },
  {
   "cell_type": "code",
   "id": "29e2bf43e14c56fb",
   "metadata": {
    "ExecuteTime": {
     "end_time": "2024-06-13T20:37:01.552432Z",
     "start_time": "2024-06-13T20:37:01.017041Z"
    }
   },
   "source": [
    "scipy.stats.pearsonr(df['CVSD_mean'], df['scr_count_per_minute'])"
   ],
   "outputs": [
    {
     "data": {
      "text/plain": [
       "PearsonRResult(statistic=0.04135997136388564, pvalue=0.7396498147034892)"
      ]
     },
     "execution_count": 3,
     "metadata": {},
     "output_type": "execute_result"
    }
   ],
   "execution_count": 3
  },
  {
   "cell_type": "code",
   "id": "43bdce26b1ae1e14",
   "metadata": {
    "ExecuteTime": {
     "end_time": "2024-06-13T20:37:01.562752Z",
     "start_time": "2024-06-13T20:37:01.553445Z"
    }
   },
   "source": [
    "df_corr = pd.DataFrame(df, columns=['CVSD_mean', 'scr_count_per_minute'])\n",
    "print((df_corr))\n",
    "df_corr.corr(method='pearson')\n"
   ],
   "outputs": [
    {
     "name": "stdout",
     "output_type": "stream",
     "text": [
      "    CVSD_mean  scr_count_per_minute\n",
      "0    0.239401              2.253452\n",
      "1    0.237298              3.045608\n",
      "2    0.234785              2.368496\n",
      "3    0.226616              1.725127\n",
      "4    0.214661              2.688492\n",
      "..        ...                   ...\n",
      "62   0.127721              2.654889\n",
      "63   0.119939              2.151300\n",
      "64   0.119632              2.513683\n",
      "65   0.118308              2.781259\n",
      "66   0.088613              2.032742\n",
      "\n",
      "[67 rows x 2 columns]\n"
     ]
    },
    {
     "data": {
      "text/plain": [
       "                      CVSD_mean  scr_count_per_minute\n",
       "CVSD_mean               1.00000               0.04136\n",
       "scr_count_per_minute    0.04136               1.00000"
      ],
      "text/html": [
       "<div>\n",
       "<style scoped>\n",
       "    .dataframe tbody tr th:only-of-type {\n",
       "        vertical-align: middle;\n",
       "    }\n",
       "\n",
       "    .dataframe tbody tr th {\n",
       "        vertical-align: top;\n",
       "    }\n",
       "\n",
       "    .dataframe thead th {\n",
       "        text-align: right;\n",
       "    }\n",
       "</style>\n",
       "<table border=\"1\" class=\"dataframe\">\n",
       "  <thead>\n",
       "    <tr style=\"text-align: right;\">\n",
       "      <th></th>\n",
       "      <th>CVSD_mean</th>\n",
       "      <th>scr_count_per_minute</th>\n",
       "    </tr>\n",
       "  </thead>\n",
       "  <tbody>\n",
       "    <tr>\n",
       "      <th>CVSD_mean</th>\n",
       "      <td>1.00000</td>\n",
       "      <td>0.04136</td>\n",
       "    </tr>\n",
       "    <tr>\n",
       "      <th>scr_count_per_minute</th>\n",
       "      <td>0.04136</td>\n",
       "      <td>1.00000</td>\n",
       "    </tr>\n",
       "  </tbody>\n",
       "</table>\n",
       "</div>"
      ]
     },
     "execution_count": 4,
     "metadata": {},
     "output_type": "execute_result"
    }
   ],
   "execution_count": 4
  },
  {
   "cell_type": "code",
   "id": "407cfcec",
   "metadata": {
    "ExecuteTime": {
     "end_time": "2024-06-13T20:37:02.024557Z",
     "start_time": "2024-06-13T20:37:01.563759Z"
    }
   },
   "source": [
    "import statsmodels.api as sm\n",
    "from statsmodels.multivariate.manova import MANOVA\n",
    "\n",
    "endog = df[['CVSD_mean','scr_count_per_minute']]\n",
    "\n",
    "# Define the independent variables, adding a constant for the intercept\n",
    "exog = sm.add_constant(df[['openness','conscientiousness','neuroticism', 'extraversion', 'agreeableness']])\n",
    "\n",
    "test = MANOVA(endog, exog)\n",
    "print(test.mv_test().summary())"
   ],
   "outputs": [
    {
     "name": "stdout",
     "output_type": "stream",
     "text": [
      "                 Multivariate linear model\n",
      "============================================================\n",
      "                                                            \n",
      "------------------------------------------------------------\n",
      "           x0           Value  Num DF  Den DF F Value Pr > F\n",
      "------------------------------------------------------------\n",
      "          Wilks' lambda 0.4081 2.0000 60.0000 43.5086 0.0000\n",
      "         Pillai's trace 0.5919 2.0000 60.0000 43.5086 0.0000\n",
      " Hotelling-Lawley trace 1.4503 2.0000 60.0000 43.5086 0.0000\n",
      "    Roy's greatest root 1.4503 2.0000 60.0000 43.5086 0.0000\n",
      "------------------------------------------------------------\n",
      "                                                            \n",
      "------------------------------------------------------------\n",
      "           x1           Value  Num DF  Den DF F Value Pr > F\n",
      "------------------------------------------------------------\n",
      "          Wilks' lambda 0.8622 2.0000 60.0000  4.7931 0.0117\n",
      "         Pillai's trace 0.1378 2.0000 60.0000  4.7931 0.0117\n",
      " Hotelling-Lawley trace 0.1598 2.0000 60.0000  4.7931 0.0117\n",
      "    Roy's greatest root 0.1598 2.0000 60.0000  4.7931 0.0117\n",
      "------------------------------------------------------------\n",
      "                                                            \n",
      "------------------------------------------------------------\n",
      "           x2           Value  Num DF  Den DF F Value Pr > F\n",
      "------------------------------------------------------------\n",
      "          Wilks' lambda 0.8930 2.0000 60.0000  3.5964 0.0335\n",
      "         Pillai's trace 0.1070 2.0000 60.0000  3.5964 0.0335\n",
      " Hotelling-Lawley trace 0.1199 2.0000 60.0000  3.5964 0.0335\n",
      "    Roy's greatest root 0.1199 2.0000 60.0000  3.5964 0.0335\n",
      "------------------------------------------------------------\n",
      "                                                            \n",
      "------------------------------------------------------------\n",
      "           x3           Value  Num DF  Den DF F Value Pr > F\n",
      "------------------------------------------------------------\n",
      "          Wilks' lambda 0.9749 2.0000 60.0000  0.7709 0.4671\n",
      "         Pillai's trace 0.0251 2.0000 60.0000  0.7709 0.4671\n",
      " Hotelling-Lawley trace 0.0257 2.0000 60.0000  0.7709 0.4671\n",
      "    Roy's greatest root 0.0257 2.0000 60.0000  0.7709 0.4671\n",
      "------------------------------------------------------------\n",
      "                                                            \n",
      "------------------------------------------------------------\n",
      "           x4           Value  Num DF  Den DF F Value Pr > F\n",
      "------------------------------------------------------------\n",
      "          Wilks' lambda 0.9677 2.0000 60.0000  1.0025 0.3730\n",
      "         Pillai's trace 0.0323 2.0000 60.0000  1.0025 0.3730\n",
      " Hotelling-Lawley trace 0.0334 2.0000 60.0000  1.0025 0.3730\n",
      "    Roy's greatest root 0.0334 2.0000 60.0000  1.0025 0.3730\n",
      "------------------------------------------------------------\n",
      "                                                            \n",
      "------------------------------------------------------------\n",
      "           x5           Value  Num DF  Den DF F Value Pr > F\n",
      "------------------------------------------------------------\n",
      "          Wilks' lambda 0.9768 2.0000 60.0000  0.7123 0.4946\n",
      "         Pillai's trace 0.0232 2.0000 60.0000  0.7123 0.4946\n",
      " Hotelling-Lawley trace 0.0237 2.0000 60.0000  0.7123 0.4946\n",
      "    Roy's greatest root 0.0237 2.0000 60.0000  0.7123 0.4946\n",
      "============================================================\n",
      "\n"
     ]
    }
   ],
   "execution_count": 5
  },
  {
   "cell_type": "code",
   "id": "591fe69d",
   "metadata": {
    "ExecuteTime": {
     "end_time": "2024-06-13T20:37:03.530355Z",
     "start_time": "2024-06-13T20:37:02.025567Z"
    }
   },
   "source": [
    "from sklearn import linear_model\n",
    "from sklearn.cross_decomposition import CCA\n",
    "\n",
    "# clf = linear_model.LinearRegression()\n",
    "# clf.fit(exog, endog)\n",
    "# clf.score(exog, endog)\n",
    "# clf.coef_\n",
    "\n",
    "X = df[['openness','conscientiousness','neuroticism', 'extraversion', 'agreeableness']]\n",
    "Y = df[['CVSD_mean','scr_count_per_minute']]\n",
    "\n",
    "cca = CCA(n_components=2)\n",
    "cca.fit(X,Y)\n",
    "X_c, Y_c = cca.transform(X, Y)\n",
    "\n",
    "# Calculate canonical correlations\n",
    "canonical_correlations = np.corrcoef(X_c.T, Y_c.T)[:2, 2:]\n",
    "print(\"Canonical Correlations:\\n\", canonical_correlations)\n",
    "\n",
    "# Detailed canonical correlations\n",
    "print(\"Canonical Correlations (Detailed):\")\n",
    "for i, corr in enumerate(canonical_correlations):\n",
    "    print(f\"Canonical correlation {i+1}: {corr[0]}\")\n",
    "\n",
    "# Canonical loadings for independent variables\n",
    "X_loadings = np.corrcoef(X.T, X_c.T)[:X.shape[1], X.shape[1]:]\n",
    "print(\"Canonical Loadings for IVs:\\n\", X_loadings)\n",
    "\n",
    "# Canonical loadings for dependent variables\n",
    "Y_loadings = np.corrcoef(Y.T, Y_c.T)[:Y.shape[1], Y.shape[1]:]\n",
    "print(\"Canonical Loadings for DVs:\\n\", Y_loadings)"
   ],
   "outputs": [
    {
     "name": "stdout",
     "output_type": "stream",
     "text": [
      "Canonical Correlations:\n",
      " [[ 4.23634519e-01 -1.91841912e-16]\n",
      " [ 2.35946832e-04  3.70351713e-01]]\n",
      "Canonical Correlations (Detailed):\n",
      "Canonical correlation 1: 0.4236345192657868\n",
      "Canonical correlation 2: 0.00023594683236774426\n",
      "Canonical Loadings for IVs:\n",
      " [[ 0.68958905  0.63023588]\n",
      " [ 0.71681713 -0.40004611]\n",
      " [-0.46205168  0.12648734]\n",
      " [ 0.25483212 -0.4163001 ]\n",
      " [ 0.09483468  0.25051587]]\n",
      "Canonical Loadings for DVs:\n",
      " [[-0.79551388  0.60593537]\n",
      " [-0.63831931 -0.7697717 ]]\n"
     ]
    }
   ],
   "execution_count": 6
  }
 ],
 "metadata": {
  "kernelspec": {
   "display_name": "Python 3",
   "language": "python",
   "name": "python3"
  },
  "language_info": {
   "codemirror_mode": {
    "name": "ipython",
    "version": 3
   },
   "file_extension": ".py",
   "mimetype": "text/x-python",
   "name": "python",
   "nbconvert_exporter": "python",
   "pygments_lexer": "ipython3",
   "version": "3.11.8"
  }
 },
 "nbformat": 4,
 "nbformat_minor": 5
}
