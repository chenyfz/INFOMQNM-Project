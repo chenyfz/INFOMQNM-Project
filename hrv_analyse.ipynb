{
 "cells": [
  {
   "cell_type": "code",
   "execution_count": null,
   "id": "initial_id",
   "metadata": {
    "ExecuteTime": {
     "end_time": "2024-06-13T16:31:11.382446Z",
     "start_time": "2024-06-13T16:31:11.189188Z"
    }
   },
   "outputs": [],
   "source": [
    "import os\n",
    "from pathlib import Path\n",
    "\n",
    "import numpy as np\n",
    "import pandas as pd\n",
    "from matplotlib import pyplot as plt\n",
    "import scipy\n",
    "from statsmodels.stats.diagnostic import het_white\n",
    "import statsmodels.api as sm\n",
    "\n",
    "\n",
    "hrv_middle_data_path = 'hrv-middle-data/'\n",
    "measurement = 'CVSD_mean'\n",
    "output_path = 'analyse_data/'\n",
    "\n",
    "res = pd.DataFrame([], columns=['pcode', 'RMSSD_mean', 'CVSD_mean', 'SDNN_mean', 'RMSSD_std', 'CVSD_std', 'SDNN_std'])\n",
    "\n",
    "# calculate mean CVSD for each participant\n",
    "for p_index in range(80):\n",
    "    participant_key = 'P' + str(p_index + 1).zfill(2)\n",
    "    file_path = hrv_middle_data_path + participant_key + '_hrv_result.csv'\n",
    "\n",
    "    if not os.path.isfile(file_path):\n",
    "        print(file_path + ' do not exist')\n",
    "        continue\n",
    "\n",
    "    df = pd.read_csv(file_path)\n",
    "    \n",
    "    # filter out participants with less than 5 rows of data \n",
    "    if len(df) < 5:\n",
    "        print(participant_key + ' has too less data, filtered out')\n",
    "        continue\n",
    "    \n",
    "    # In the end, we only use the CVSD_mean.\n",
    "    res.loc[len(res)] = [participant_key, df['HRV_RMSSD'].mean(), df['HRV_CVSD'].mean(), df['HRV_SDNN'].mean(), df['HRV_RMSSD'].std(), df['HRV_CVSD'].std(), df['HRV_SDNN'].std()]\n",
    "\n",
    "res"
   ]
  },
  {
   "cell_type": "code",
   "execution_count": null,
   "id": "561fc7e7b3dfd38b",
   "metadata": {
    "ExecuteTime": {
     "end_time": "2024-06-13T16:31:11.659779Z",
     "start_time": "2024-06-13T16:31:11.383454Z"
    }
   },
   "outputs": [],
   "source": [
    "# plot the overview of participants with CVSD_mean\n",
    "res.sort_values(by=measurement, ascending=False, inplace=True)\n",
    "plot = res.plot(x='pcode', y=measurement, kind='scatter', figsize=(15, 5))"
   ]
  },
  {
   "cell_type": "code",
   "execution_count": null,
   "id": "e2ac2e6e43184fd6",
   "metadata": {
    "ExecuteTime": {
     "end_time": "2024-06-13T16:31:11.671038Z",
     "start_time": "2024-06-13T16:31:11.660794Z"
    }
   },
   "outputs": [],
   "source": [
    "# read participant information and print result for overview\n",
    "df_subj = pd.read_csv('dataset/SubjData/UserInfo.csv')\n",
    "df_subj"
   ]
  },
  {
   "cell_type": "code",
   "execution_count": null,
   "id": "9ac83339c10c0129",
   "metadata": {
    "ExecuteTime": {
     "end_time": "2024-06-13T16:31:11.679737Z",
     "start_time": "2024-06-13T16:31:11.672045Z"
    }
   },
   "outputs": [],
   "source": [
    "# join user information dataframe and HRV result dataframe\n",
    "personality_traits = ['openness', 'conscientiousness', 'neuroticism', 'extraversion', 'agreeableness']\n",
    "df_test = pd.merge(res, df_subj, on='pcode')\n",
    "\n",
    "# output the file for multivariate analysis\n",
    "Path(output_path).mkdir(parents=True, exist_ok=True)\n",
    "df_test.to_csv(f'{output_path}hrv-results.csv', index=False)"
   ]
  },
  {
   "cell_type": "code",
   "execution_count": null,
   "id": "1f9f36d1e9edc188",
   "metadata": {
    "ExecuteTime": {
     "end_time": "2024-06-13T16:31:12.222315Z",
     "start_time": "2024-06-13T16:31:11.680743Z"
    }
   },
   "outputs": [],
   "source": [
    "# only for reference, we don't use this plots in the end\n",
    "for trait in personality_traits:\n",
    "    df_test.plot(x=trait, y=measurement, kind='scatter')"
   ]
  },
  {
   "cell_type": "code",
   "execution_count": null,
   "id": "5bf5f8e4b13d89a1",
   "metadata": {
    "ExecuteTime": {
     "end_time": "2024-06-13T16:31:12.240598Z",
     "start_time": "2024-06-13T16:31:12.223320Z"
    }
   },
   "outputs": [],
   "source": [
    "# multiple regression for all five personality traits to HRV\n",
    "\n",
    "X = df_test[personality_traits]\n",
    "y = df_test[measurement]\n",
    "\n",
    "X = sm.add_constant(X)\n",
    "model = sm.OLS(y, X).fit()\n",
    "results = model\n",
    "\n",
    "print(results.summary())"
   ]
  },
  {
   "cell_type": "code",
   "execution_count": null,
   "id": "faa530b525fd5095",
   "metadata": {
    "ExecuteTime": {
     "end_time": "2024-06-13T16:31:12.424186Z",
     "start_time": "2024-06-13T16:31:12.241603Z"
    }
   },
   "outputs": [],
   "source": [
    "plot = plt.plot(results.resid)"
   ]
  },
  {
   "cell_type": "code",
   "execution_count": null,
   "id": "f9a46ebe58198edd",
   "metadata": {
    "ExecuteTime": {
     "end_time": "2024-06-13T16:31:12.512828Z",
     "start_time": "2024-06-13T16:31:12.425201Z"
    }
   },
   "outputs": [],
   "source": [
    "# normality test and normality visualization\n",
    "print(scipy.stats.shapiro(results.resid))\n",
    "qq_plot = sm.qqplot(results.resid, line='q')"
   ]
  },
  {
   "cell_type": "code",
   "execution_count": null,
   "id": "56df9f4618f5b95b",
   "metadata": {
    "ExecuteTime": {
     "end_time": "2024-06-13T16:31:12.521535Z",
     "start_time": "2024-06-13T16:31:12.513835Z"
    }
   },
   "outputs": [],
   "source": [
    "# Pearson correlation of each personality trait to HRV. We don't use them in the end.\n",
    "for trait in personality_traits:\n",
    "    print(trait, scipy.stats.pearsonr(df_test[trait], df_test[measurement]))"
   ]
  },
  {
   "cell_type": "code",
   "execution_count": null,
   "id": "b8fd26cc7035588b",
   "metadata": {
    "ExecuteTime": {
     "end_time": "2024-06-13T16:31:12.530732Z",
     "start_time": "2024-06-13T16:31:12.522541Z"
    }
   },
   "outputs": [],
   "source": [
    "# Pearson correlation between personality traits.\n",
    "df_corr = df_test[personality_traits]\n",
    "print(df_corr.corr(method='pearson'))\n",
    "\n",
    "df_corr.corr(method='pearson').to_csv(f\"{output_path}IV-correlation.csv\", index=False)"
   ]
  },
  {
   "cell_type": "code",
   "execution_count": null,
   "id": "29b33d5c1478fea4",
   "metadata": {
    "ExecuteTime": {
     "end_time": "2024-06-13T16:31:12.538082Z",
     "start_time": "2024-06-13T16:31:12.531739Z"
    }
   },
   "outputs": [],
   "source": [
    "# assumption test for homogeneity\n",
    "homogeneity_test_results = het_white(results.resid, results.model.exog)\n",
    "\n",
    "labels = ['Lagrange multiplier statistic', 'p-value', 'f-value', 'f p-value']\n",
    "homogeneity_test_results = dict(zip(labels, homogeneity_test_results))\n",
    "\n",
    "print(homogeneity_test_results)"
   ]
  },
  {
   "cell_type": "code",
   "execution_count": null,
   "id": "e8a7148c0b4183e0",
   "metadata": {
    "ExecuteTime": {
     "end_time": "2024-06-13T16:31:12.552509Z",
     "start_time": "2024-06-13T16:31:12.539090Z"
    }
   },
   "outputs": [],
   "source": [
    "# new multiple regression with only openness and conscientiousness as IVs\n",
    "p2 = ['openness', 'conscientiousness']\n",
    "X2 = df_test[p2]\n",
    "\n",
    "X2 = sm.add_constant(X2)\n",
    "model2 = sm.OLS(y, X2)\n",
    "results2 = model2.fit()\n",
    "print(results2.summary())"
   ]
  },
  {
   "cell_type": "code",
   "execution_count": null,
   "id": "f0a146314823d465",
   "metadata": {
    "ExecuteTime": {
     "end_time": "2024-06-13T16:31:12.557269Z",
     "start_time": "2024-06-13T16:31:12.553517Z"
    }
   },
   "outputs": [],
   "source": [
    "# normality test\n",
    "print(scipy.stats.shapiro(results2.resid))"
   ]
  },
  {
   "cell_type": "code",
   "execution_count": null,
   "id": "9ca418d0f803cfa2",
   "metadata": {
    "ExecuteTime": {
     "end_time": "2024-06-13T16:31:12.566035Z",
     "start_time": "2024-06-13T16:31:12.558278Z"
    }
   },
   "outputs": [],
   "source": [
    "# assumption test for homogeneity\n",
    "homogeneity_test_results = het_white(results2.resid, results2.model.exog)\n",
    "\n",
    "labels = ['Lagrange multiplier statistic', 'p-value', 'f-value', 'f p-value']\n",
    "homogeneity_test_results = dict(zip(labels, homogeneity_test_results))\n",
    "\n",
    "print(homogeneity_test_results)"
   ]
  },
  {
   "cell_type": "code",
   "execution_count": null,
   "id": "8e8cf1de",
   "metadata": {},
   "outputs": [],
   "source": [
    "import matplotlib.pyplot as plt\n",
    "\n",
    "coef_conscientiousness = results2.params['conscientiousness']\n",
    "print(coef_conscientiousness)\n",
    "std_err_conscientiousness = results2.bse['conscientiousness']\n",
    "print(std_err_conscientiousness)\n",
    "intercept = results2.params['const']\n",
    "\n",
    "# calculate 95% confidence interval\n",
    "lower_ci = coef_conscientiousness - 1.96 * std_err_conscientiousness\n",
    "upper_ci = coef_conscientiousness + 1.96 * std_err_conscientiousness\n",
    "\n",
    "plt.figure(figsize=(8, 6))\n",
    "plt.scatter(df_test['conscientiousness'], y, label='Data points')\n",
    "plt.plot(df_test['conscientiousness'], intercept + coef_conscientiousness * df_test['conscientiousness'], color='red', label='Best Fit Line')\n",
    "plt.fill_between(df_test['conscientiousness'], intercept + lower_ci * df_test['conscientiousness'], intercept + upper_ci * df_test['conscientiousness'], color='pink', alpha=0.4, label='95% CI')\n",
    "plt.xlabel('Conscientiousness')\n",
    "plt.ylabel('CVSD_mean')\n",
    "plt.legend()\n",
    "\n",
    "plt.tight_layout()\n",
    "plt.show()\n"
   ]
  }
 ],
 "metadata": {
  "kernelspec": {
   "display_name": "Python 3",
   "language": "python",
   "name": "python3"
  },
  "language_info": {
   "codemirror_mode": {
    "name": "ipython",
    "version": 2
   },
   "file_extension": ".py",
   "mimetype": "text/x-python",
   "name": "python",
   "nbconvert_exporter": "python",
   "pygments_lexer": "ipython2",
   "version": "3.11.8"
  }
 },
 "nbformat": 4,
 "nbformat_minor": 5
}
