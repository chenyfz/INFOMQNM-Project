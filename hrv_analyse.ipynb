{
 "cells": [
  {
   "cell_type": "code",
   "execution_count": null,
   "id": "initial_id",
   "metadata": {
    "ExecuteTime": {
     "end_time": "2024-06-12T20:29:32.476211Z",
     "start_time": "2024-06-12T20:29:32.184145Z"
    }
   },
   "outputs": [],
   "source": [
    "import os\n",
    "from pathlib import Path\n",
    "\n",
    "import numpy as np\n",
    "import pandas as pd\n",
    "from matplotlib import pyplot as plt\n",
    "import scipy\n",
    "\n",
    "hrv_middle_data_path = 'hrv-middle-data/'\n",
    "measurement = 'CVSD_mean'\n",
    "output_path = 'analyse_data/'\n",
    "\n",
    "res = pd.DataFrame([], columns=['pcode', 'RMSSD_mean', 'CVSD_mean', 'SDNN_mean', 'RMSSD_std', 'CVSD_std', 'SDNN_std'])\n",
    "\n",
    "for p_index in range(80):\n",
    "    participant_key = 'P' + str(p_index + 1).zfill(2)\n",
    "    file_path = hrv_middle_data_path + participant_key + '_hrv_result.csv'\n",
    "\n",
    "    if not os.path.isfile(file_path):\n",
    "        print(file_path + ' do not exist')\n",
    "        continue\n",
    "\n",
    "    df = pd.read_csv(file_path)\n",
    "    \n",
    "    if len(df) < 5:\n",
    "        print(participant_key + ' has too less data, filtered out')\n",
    "        continue\n",
    "    \n",
    "    res.loc[len(res)] = [participant_key, df['HRV_RMSSD'].mean(), df['HRV_CVSD'].mean(), df['HRV_SDNN'].mean(), df['HRV_RMSSD'].std(), df['HRV_CVSD'].std(), df['HRV_SDNN'].std()]\n",
    "\n",
    "res"
   ]
  },
  {
   "cell_type": "code",
   "execution_count": null,
   "id": "561fc7e7b3dfd38b",
   "metadata": {
    "ExecuteTime": {
     "end_time": "2024-06-12T20:29:32.797411Z",
     "start_time": "2024-06-12T20:29:32.478216Z"
    }
   },
   "outputs": [],
   "source": [
    "\n",
    "res.sort_values(by=measurement, ascending=False, inplace=True)\n",
    "# res = res[4:64]\n",
    "plot = res.plot(x='pcode', y=measurement, kind='scatter', figsize=(15, 5))"
   ]
  },
  {
   "cell_type": "code",
   "execution_count": null,
   "id": "e2ac2e6e43184fd6",
   "metadata": {
    "ExecuteTime": {
     "end_time": "2024-06-12T20:29:32.808434Z",
     "start_time": "2024-06-12T20:29:32.798417Z"
    }
   },
   "outputs": [],
   "source": [
    "df_subj = pd.read_csv('dataset/SubjData/UserInfo.csv')\n",
    "df_subj"
   ]
  },
  {
   "cell_type": "code",
   "execution_count": null,
   "id": "9ac83339c10c0129",
   "metadata": {
    "ExecuteTime": {
     "end_time": "2024-06-12T20:29:32.820060Z",
     "start_time": "2024-06-12T20:29:32.809440Z"
    }
   },
   "outputs": [],
   "source": [
    "personality_traits = ['openness', 'conscientiousness', 'neuroticism', 'extraversion', 'agreeableness']\n",
    "df_test = pd.merge(res, df_subj, on='pcode')\n",
    "\n",
    "Path(output_path).mkdir(parents=True, exist_ok=True)\n",
    "\n",
    "df_test.to_csv(f'{output_path}hrv-results.csv', index=False)"
   ]
  },
  {
   "cell_type": "code",
   "execution_count": null,
   "id": "1f9f36d1e9edc188",
   "metadata": {
    "ExecuteTime": {
     "end_time": "2024-06-12T20:29:33.295674Z",
     "start_time": "2024-06-12T20:29:32.821076Z"
    }
   },
   "outputs": [],
   "source": [
    "for trait in personality_traits:\n",
    "    df_test.plot(x=trait, y=measurement, kind='scatter')\n"
   ]
  },
  {
   "cell_type": "code",
   "execution_count": null,
   "id": "5bf5f8e4b13d89a1",
   "metadata": {
    "ExecuteTime": {
     "end_time": "2024-06-12T20:29:33.309685Z",
     "start_time": "2024-06-12T20:29:33.296680Z"
    }
   },
   "outputs": [],
   "source": [
    "import statsmodels.api as sm\n",
    "\n",
    "X = df_test[personality_traits]\n",
    "y = df_test[measurement]\n",
    "\n",
    "X = sm.add_constant(X)\n",
    "model = sm.OLS(y, X)\n",
    "results = model.fit()\n",
    "\n",
    "print(results.summary().as_latex())"
   ]
  },
  {
   "cell_type": "code",
   "execution_count": null,
   "id": "cefc8756",
   "metadata": {},
   "outputs": [],
   "source": [
    "p2 = ['openness', 'conscientiousness']\n",
    "X2 = df_test[p2]\n",
    "\n",
    "X2 = sm.add_constant(X2)\n",
    "model2 = sm.OLS(y, X2)\n",
    "results2 = model2.fit()\n",
    "print(results2.summary())"
   ]
  },
  {
   "cell_type": "code",
   "execution_count": null,
   "id": "faa530b525fd5095",
   "metadata": {
    "ExecuteTime": {
     "end_time": "2024-06-12T20:29:33.490622Z",
     "start_time": "2024-06-12T20:29:33.310689Z"
    }
   },
   "outputs": [],
   "source": [
    "plot = plt.plot(results.resid)"
   ]
  },
  {
   "cell_type": "code",
   "execution_count": null,
   "id": "f9a46ebe58198edd",
   "metadata": {
    "ExecuteTime": {
     "end_time": "2024-06-12T20:29:33.595309Z",
     "start_time": "2024-06-12T20:29:33.491628Z"
    }
   },
   "outputs": [],
   "source": [
    "print(scipy.stats.shapiro(results.resid))\n",
    "qq_plot = sm.qqplot(results.resid, line='q')"
   ]
  },
  {
   "cell_type": "code",
   "execution_count": null,
   "id": "56df9f4618f5b95b",
   "metadata": {
    "ExecuteTime": {
     "end_time": "2024-06-12T20:29:33.604038Z",
     "start_time": "2024-06-12T20:29:33.596317Z"
    }
   },
   "outputs": [],
   "source": [
    "for trait in personality_traits:\n",
    "    print(trait, scipy.stats.pearsonr(df_test[trait], df_test[measurement]))"
   ]
  },
  {
   "cell_type": "code",
   "execution_count": null,
   "id": "b8fd26cc7035588b",
   "metadata": {
    "ExecuteTime": {
     "end_time": "2024-06-12T20:29:33.615839Z",
     "start_time": "2024-06-12T20:29:33.605044Z"
    }
   },
   "outputs": [],
   "source": [
    "df_corr = df_test[personality_traits]\n",
    "print(df_corr.corr(method='pearson'))\n",
    "\n",
    "df_corr.corr(method='pearson').to_csv(f\"{output_path}IV-correlation.csv\", index=False)"
   ]
  },
  {
   "cell_type": "code",
   "execution_count": null,
   "id": "29b33d5c1478fea4",
   "metadata": {
    "ExecuteTime": {
     "end_time": "2024-06-12T20:29:33.705179Z",
     "start_time": "2024-06-12T20:29:33.616845Z"
    }
   },
   "outputs": [],
   "source": [
    "from statsmodels.stats.diagnostic import het_white\n",
    "\n",
    "homogeneity_test_results = het_white(results.resid, results.model.exog)\n",
    "\n",
    "labels = ['Lagrange multiplier statistic', 'p-value', 'f-value', 'f p-value']\n",
    "homogeneity_test_results = dict(zip(labels, homogeneity_test_results))\n",
    "\n",
    "print(homogeneity_test_results)\n",
    "\n",
    "plt.scatter(results.fittedvalues, results.resid)\n",
    "plt.xlabel('Fitted values')\n",
    "plt.ylabel('Residuals')\n",
    "plt.title('Residuals vs Fitted Values')\n",
    "plt.axhline(0, color='red', linestyle='--')\n",
    "plt.show()"
   ]
  }
 ],
 "metadata": {
  "kernelspec": {
   "display_name": "Python 3",
   "language": "python",
   "name": "python3"
  },
  "language_info": {
   "codemirror_mode": {
    "name": "ipython",
    "version": 2
   },
   "file_extension": ".py",
   "mimetype": "text/x-python",
   "name": "python",
   "nbconvert_exporter": "python",
   "pygments_lexer": "ipython2",
   "version": "3.11.8"
  }
 },
 "nbformat": 4,
 "nbformat_minor": 5
}
