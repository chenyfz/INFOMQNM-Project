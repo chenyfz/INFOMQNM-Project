{
 "cells": [
  {
   "cell_type": "code",
   "id": "initial_id",
   "metadata": {
    "collapsed": true,
    "ExecuteTime": {
     "end_time": "2024-05-30T11:31:33.086338Z",
     "start_time": "2024-05-30T11:31:29.514096Z"
    }
   },
   "source": [
    "import pandas as pd\n",
    "\n",
    "df = pd.read_csv('dataset/P01/ActivityEvent.csv')\n",
    "\n",
    "df['sum'] = df['confidenceStill'] + df['confidenceUnknown'] + df['confidenceOnFoot'] + df['confidenceInVehicle'] + df['confidenceOnBicycle'] + df['confidenceTilting']\n",
    "\n",
    "print(df['sum'].mean())\n",
    "\n",
    "df['sum']"
   ],
   "outputs": [
    {
     "name": "stdout",
     "output_type": "stream",
     "text": [
      "0.9544534362549801\n"
     ]
    },
    {
     "data": {
      "text/plain": [
       "0       1.0\n",
       "1       1.0\n",
       "2       1.0\n",
       "3       1.0\n",
       "4       1.0\n",
       "       ... \n",
       "8027    1.0\n",
       "8028    1.0\n",
       "8029    1.0\n",
       "8030    1.0\n",
       "8031    1.0\n",
       "Name: sum, Length: 8032, dtype: float64"
      ]
     },
     "execution_count": 1,
     "metadata": {},
     "output_type": "execute_result"
    }
   ],
   "execution_count": 1
  }
 ],
 "metadata": {
  "kernelspec": {
   "display_name": "Python 3",
   "language": "python",
   "name": "python3"
  },
  "language_info": {
   "codemirror_mode": {
    "name": "ipython",
    "version": 2
   },
   "file_extension": ".py",
   "mimetype": "text/x-python",
   "name": "python",
   "nbconvert_exporter": "python",
   "pygments_lexer": "ipython2",
   "version": "2.7.6"
  }
 },
 "nbformat": 4,
 "nbformat_minor": 5
}
